{
 "cells": [
  {
   "cell_type": "code",
   "execution_count": 128,
   "metadata": {},
   "outputs": [],
   "source": [
    "import pandas as pd\n",
    "import math\n",
    "import numpy as np\n",
    "import matplotlib.pyplot as plt"
   ]
  },
  {
   "cell_type": "code",
   "execution_count": 2,
   "metadata": {},
   "outputs": [],
   "source": [
    "# data via https://www.kaggle.com/gpreda/reddit-conspiracy-theory\n",
    "df = pd.read_csv(\"reddit_ct.csv\")"
   ]
  },
  {
   "cell_type": "code",
   "execution_count": 3,
   "metadata": {},
   "outputs": [
    {
     "data": {
      "text/html": [
       "<div>\n",
       "<style scoped>\n",
       "    .dataframe tbody tr th:only-of-type {\n",
       "        vertical-align: middle;\n",
       "    }\n",
       "\n",
       "    .dataframe tbody tr th {\n",
       "        vertical-align: top;\n",
       "    }\n",
       "\n",
       "    .dataframe thead th {\n",
       "        text-align: right;\n",
       "    }\n",
       "</style>\n",
       "<table border=\"1\" class=\"dataframe\">\n",
       "  <thead>\n",
       "    <tr style=\"text-align: right;\">\n",
       "      <th></th>\n",
       "      <th>title</th>\n",
       "      <th>score</th>\n",
       "      <th>id</th>\n",
       "      <th>url</th>\n",
       "      <th>comms_num</th>\n",
       "      <th>created</th>\n",
       "      <th>body</th>\n",
       "      <th>timestamp</th>\n",
       "    </tr>\n",
       "  </thead>\n",
       "  <tbody>\n",
       "    <tr>\n",
       "      <th>0</th>\n",
       "      <td>Jimmy Fallon might be in the closet gay, or Bi...</td>\n",
       "      <td>6</td>\n",
       "      <td>f2r2s5</td>\n",
       "      <td>https://www.reddit.com/r/ConspiracyTheory/comm...</td>\n",
       "      <td>15</td>\n",
       "      <td>1.581513e+09</td>\n",
       "      <td>Recently me and some of my friends have been n...</td>\n",
       "      <td>2020-02-12 15:17:50</td>\n",
       "    </tr>\n",
       "    <tr>\n",
       "      <th>1</th>\n",
       "      <td>NBA Players who are Part of the Secret Illuminati</td>\n",
       "      <td>11</td>\n",
       "      <td>f1b44j</td>\n",
       "      <td>https://youtu.be/osrWcunuMbQ</td>\n",
       "      <td>2</td>\n",
       "      <td>1.581266e+09</td>\n",
       "      <td>NaN</td>\n",
       "      <td>2020-02-09 18:41:12</td>\n",
       "    </tr>\n",
       "    <tr>\n",
       "      <th>2</th>\n",
       "      <td>Evidence that Suggests Wuhan Market was Not th...</td>\n",
       "      <td>25</td>\n",
       "      <td>f0tsly</td>\n",
       "      <td>https://www.reddit.com/r/ConspiracyTheory/comm...</td>\n",
       "      <td>15</td>\n",
       "      <td>1.581179e+09</td>\n",
       "      <td>I have marked a rudimentary chart, each new in...</td>\n",
       "      <td>2020-02-08 18:27:15</td>\n",
       "    </tr>\n",
       "    <tr>\n",
       "      <th>3</th>\n",
       "      <td>US Navy Vet - Worked in Afghanistan, Iraq, Sud...</td>\n",
       "      <td>2</td>\n",
       "      <td>f0dddo</td>\n",
       "      <td>https://i.redd.it/hp4x7l90ajf41.jpg</td>\n",
       "      <td>0</td>\n",
       "      <td>1.581095e+09</td>\n",
       "      <td>NaN</td>\n",
       "      <td>2020-02-07 19:05:26</td>\n",
       "    </tr>\n",
       "    <tr>\n",
       "      <th>4</th>\n",
       "      <td>New Details Show How Deeply Iowa Caucus App De...</td>\n",
       "      <td>7</td>\n",
       "      <td>ezzad1</td>\n",
       "      <td>https://theintercept.com/2020/02/04/iowa-caucu...</td>\n",
       "      <td>2</td>\n",
       "      <td>1.581024e+09</td>\n",
       "      <td>NaN</td>\n",
       "      <td>2020-02-06 23:18:15</td>\n",
       "    </tr>\n",
       "    <tr>\n",
       "      <th>...</th>\n",
       "      <td>...</td>\n",
       "      <td>...</td>\n",
       "      <td>...</td>\n",
       "      <td>...</td>\n",
       "      <td>...</td>\n",
       "      <td>...</td>\n",
       "      <td>...</td>\n",
       "      <td>...</td>\n",
       "    </tr>\n",
       "    <tr>\n",
       "      <th>1172</th>\n",
       "      <td>Comment</td>\n",
       "      <td>3</td>\n",
       "      <td>c6nq6do</td>\n",
       "      <td>NaN</td>\n",
       "      <td>0</td>\n",
       "      <td>1.350471e+09</td>\n",
       "      <td>[Yeah, yeah. I know.](http://www.youtube.com/w...</td>\n",
       "      <td>2012-10-17 13:43:29</td>\n",
       "    </tr>\n",
       "    <tr>\n",
       "      <th>1173</th>\n",
       "      <td>Comment</td>\n",
       "      <td>2</td>\n",
       "      <td>c6nq1wx</td>\n",
       "      <td>NaN</td>\n",
       "      <td>0</td>\n",
       "      <td>1.350469e+09</td>\n",
       "      <td>The only thing I found in the filter when I go...</td>\n",
       "      <td>2012-10-17 13:18:51</td>\n",
       "    </tr>\n",
       "    <tr>\n",
       "      <th>1174</th>\n",
       "      <td>Comment</td>\n",
       "      <td>2</td>\n",
       "      <td>c6ar2eu</td>\n",
       "      <td>NaN</td>\n",
       "      <td>0</td>\n",
       "      <td>1.348112e+09</td>\n",
       "      <td>My god you were a mole the whole time !!</td>\n",
       "      <td>2012-09-20 06:36:00</td>\n",
       "    </tr>\n",
       "    <tr>\n",
       "      <th>1175</th>\n",
       "      <td>Comment</td>\n",
       "      <td>1</td>\n",
       "      <td>c5r6v1h</td>\n",
       "      <td>NaN</td>\n",
       "      <td>0</td>\n",
       "      <td>1.344627e+09</td>\n",
       "      <td>While many claim there is a move to a one worl...</td>\n",
       "      <td>2012-08-10 22:25:59</td>\n",
       "    </tr>\n",
       "    <tr>\n",
       "      <th>1176</th>\n",
       "      <td>Comment</td>\n",
       "      <td>2</td>\n",
       "      <td>c5qpa92</td>\n",
       "      <td>NaN</td>\n",
       "      <td>0</td>\n",
       "      <td>1.344545e+09</td>\n",
       "      <td>It's a conspiracy.</td>\n",
       "      <td>2012-08-09 23:47:42</td>\n",
       "    </tr>\n",
       "  </tbody>\n",
       "</table>\n",
       "<p>1177 rows × 8 columns</p>\n",
       "</div>"
      ],
      "text/plain": [
       "                                                  title  score       id  \\\n",
       "0     Jimmy Fallon might be in the closet gay, or Bi...      6   f2r2s5   \n",
       "1     NBA Players who are Part of the Secret Illuminati     11   f1b44j   \n",
       "2     Evidence that Suggests Wuhan Market was Not th...     25   f0tsly   \n",
       "3     US Navy Vet - Worked in Afghanistan, Iraq, Sud...      2   f0dddo   \n",
       "4     New Details Show How Deeply Iowa Caucus App De...      7   ezzad1   \n",
       "...                                                 ...    ...      ...   \n",
       "1172                                            Comment      3  c6nq6do   \n",
       "1173                                            Comment      2  c6nq1wx   \n",
       "1174                                            Comment      2  c6ar2eu   \n",
       "1175                                            Comment      1  c5r6v1h   \n",
       "1176                                            Comment      2  c5qpa92   \n",
       "\n",
       "                                                    url  comms_num  \\\n",
       "0     https://www.reddit.com/r/ConspiracyTheory/comm...         15   \n",
       "1                          https://youtu.be/osrWcunuMbQ          2   \n",
       "2     https://www.reddit.com/r/ConspiracyTheory/comm...         15   \n",
       "3                   https://i.redd.it/hp4x7l90ajf41.jpg          0   \n",
       "4     https://theintercept.com/2020/02/04/iowa-caucu...          2   \n",
       "...                                                 ...        ...   \n",
       "1172                                                NaN          0   \n",
       "1173                                                NaN          0   \n",
       "1174                                                NaN          0   \n",
       "1175                                                NaN          0   \n",
       "1176                                                NaN          0   \n",
       "\n",
       "           created                                               body  \\\n",
       "0     1.581513e+09  Recently me and some of my friends have been n...   \n",
       "1     1.581266e+09                                                NaN   \n",
       "2     1.581179e+09  I have marked a rudimentary chart, each new in...   \n",
       "3     1.581095e+09                                                NaN   \n",
       "4     1.581024e+09                                                NaN   \n",
       "...            ...                                                ...   \n",
       "1172  1.350471e+09  [Yeah, yeah. I know.](http://www.youtube.com/w...   \n",
       "1173  1.350469e+09  The only thing I found in the filter when I go...   \n",
       "1174  1.348112e+09           My god you were a mole the whole time !!   \n",
       "1175  1.344627e+09  While many claim there is a move to a one worl...   \n",
       "1176  1.344545e+09                                 It's a conspiracy.   \n",
       "\n",
       "                timestamp  \n",
       "0     2020-02-12 15:17:50  \n",
       "1     2020-02-09 18:41:12  \n",
       "2     2020-02-08 18:27:15  \n",
       "3     2020-02-07 19:05:26  \n",
       "4     2020-02-06 23:18:15  \n",
       "...                   ...  \n",
       "1172  2012-10-17 13:43:29  \n",
       "1173  2012-10-17 13:18:51  \n",
       "1174  2012-09-20 06:36:00  \n",
       "1175  2012-08-10 22:25:59  \n",
       "1176  2012-08-09 23:47:42  \n",
       "\n",
       "[1177 rows x 8 columns]"
      ]
     },
     "execution_count": 3,
     "metadata": {},
     "output_type": "execute_result"
    }
   ],
   "source": [
    "df"
   ]
  },
  {
   "cell_type": "code",
   "execution_count": 5,
   "metadata": {},
   "outputs": [
    {
     "data": {
      "text/plain": [
       "<bound method DataFrame.info of                                                   title  score       id  \\\n",
       "0     Jimmy Fallon might be in the closet gay, or Bi...      6   f2r2s5   \n",
       "1     NBA Players who are Part of the Secret Illuminati     11   f1b44j   \n",
       "2     Evidence that Suggests Wuhan Market was Not th...     25   f0tsly   \n",
       "3     US Navy Vet - Worked in Afghanistan, Iraq, Sud...      2   f0dddo   \n",
       "4     New Details Show How Deeply Iowa Caucus App De...      7   ezzad1   \n",
       "...                                                 ...    ...      ...   \n",
       "1172                                            Comment      3  c6nq6do   \n",
       "1173                                            Comment      2  c6nq1wx   \n",
       "1174                                            Comment      2  c6ar2eu   \n",
       "1175                                            Comment      1  c5r6v1h   \n",
       "1176                                            Comment      2  c5qpa92   \n",
       "\n",
       "                                                    url  comms_num  \\\n",
       "0     https://www.reddit.com/r/ConspiracyTheory/comm...         15   \n",
       "1                          https://youtu.be/osrWcunuMbQ          2   \n",
       "2     https://www.reddit.com/r/ConspiracyTheory/comm...         15   \n",
       "3                   https://i.redd.it/hp4x7l90ajf41.jpg          0   \n",
       "4     https://theintercept.com/2020/02/04/iowa-caucu...          2   \n",
       "...                                                 ...        ...   \n",
       "1172                                                NaN          0   \n",
       "1173                                                NaN          0   \n",
       "1174                                                NaN          0   \n",
       "1175                                                NaN          0   \n",
       "1176                                                NaN          0   \n",
       "\n",
       "           created                                               body  \\\n",
       "0     1.581513e+09  Recently me and some of my friends have been n...   \n",
       "1     1.581266e+09                                                NaN   \n",
       "2     1.581179e+09  I have marked a rudimentary chart, each new in...   \n",
       "3     1.581095e+09                                                NaN   \n",
       "4     1.581024e+09                                                NaN   \n",
       "...            ...                                                ...   \n",
       "1172  1.350471e+09  [Yeah, yeah. I know.](http://www.youtube.com/w...   \n",
       "1173  1.350469e+09  The only thing I found in the filter when I go...   \n",
       "1174  1.348112e+09           My god you were a mole the whole time !!   \n",
       "1175  1.344627e+09  While many claim there is a move to a one worl...   \n",
       "1176  1.344545e+09                                 It's a conspiracy.   \n",
       "\n",
       "                timestamp  \n",
       "0     2020-02-12 15:17:50  \n",
       "1     2020-02-09 18:41:12  \n",
       "2     2020-02-08 18:27:15  \n",
       "3     2020-02-07 19:05:26  \n",
       "4     2020-02-06 23:18:15  \n",
       "...                   ...  \n",
       "1172  2012-10-17 13:43:29  \n",
       "1173  2012-10-17 13:18:51  \n",
       "1174  2012-09-20 06:36:00  \n",
       "1175  2012-08-10 22:25:59  \n",
       "1176  2012-08-09 23:47:42  \n",
       "\n",
       "[1177 rows x 8 columns]>"
      ]
     },
     "execution_count": 5,
     "metadata": {},
     "output_type": "execute_result"
    }
   ],
   "source": [
    "df.info"
   ]
  },
  {
   "cell_type": "code",
   "execution_count": 6,
   "metadata": {},
   "outputs": [
    {
     "data": {
      "text/html": [
       "<div>\n",
       "<style scoped>\n",
       "    .dataframe tbody tr th:only-of-type {\n",
       "        vertical-align: middle;\n",
       "    }\n",
       "\n",
       "    .dataframe tbody tr th {\n",
       "        vertical-align: top;\n",
       "    }\n",
       "\n",
       "    .dataframe thead th {\n",
       "        text-align: right;\n",
       "    }\n",
       "</style>\n",
       "<table border=\"1\" class=\"dataframe\">\n",
       "  <thead>\n",
       "    <tr style=\"text-align: right;\">\n",
       "      <th></th>\n",
       "      <th>score</th>\n",
       "      <th>comms_num</th>\n",
       "      <th>created</th>\n",
       "    </tr>\n",
       "  </thead>\n",
       "  <tbody>\n",
       "    <tr>\n",
       "      <th>count</th>\n",
       "      <td>1177.000000</td>\n",
       "      <td>1177.000000</td>\n",
       "      <td>1.177000e+03</td>\n",
       "    </tr>\n",
       "    <tr>\n",
       "      <th>mean</th>\n",
       "      <td>1.737468</td>\n",
       "      <td>0.519116</td>\n",
       "      <td>1.520791e+09</td>\n",
       "    </tr>\n",
       "    <tr>\n",
       "      <th>std</th>\n",
       "      <td>1.819648</td>\n",
       "      <td>1.808385</td>\n",
       "      <td>6.353630e+07</td>\n",
       "    </tr>\n",
       "    <tr>\n",
       "      <th>min</th>\n",
       "      <td>-4.000000</td>\n",
       "      <td>0.000000</td>\n",
       "      <td>1.344545e+09</td>\n",
       "    </tr>\n",
       "    <tr>\n",
       "      <th>25%</th>\n",
       "      <td>1.000000</td>\n",
       "      <td>0.000000</td>\n",
       "      <td>1.508088e+09</td>\n",
       "    </tr>\n",
       "    <tr>\n",
       "      <th>50%</th>\n",
       "      <td>1.000000</td>\n",
       "      <td>0.000000</td>\n",
       "      <td>1.540925e+09</td>\n",
       "    </tr>\n",
       "    <tr>\n",
       "      <th>75%</th>\n",
       "      <td>2.000000</td>\n",
       "      <td>0.000000</td>\n",
       "      <td>1.567867e+09</td>\n",
       "    </tr>\n",
       "    <tr>\n",
       "      <th>max</th>\n",
       "      <td>25.000000</td>\n",
       "      <td>30.000000</td>\n",
       "      <td>1.596763e+09</td>\n",
       "    </tr>\n",
       "  </tbody>\n",
       "</table>\n",
       "</div>"
      ],
      "text/plain": [
       "             score    comms_num       created\n",
       "count  1177.000000  1177.000000  1.177000e+03\n",
       "mean      1.737468     0.519116  1.520791e+09\n",
       "std       1.819648     1.808385  6.353630e+07\n",
       "min      -4.000000     0.000000  1.344545e+09\n",
       "25%       1.000000     0.000000  1.508088e+09\n",
       "50%       1.000000     0.000000  1.540925e+09\n",
       "75%       2.000000     0.000000  1.567867e+09\n",
       "max      25.000000    30.000000  1.596763e+09"
      ]
     },
     "execution_count": 6,
     "metadata": {},
     "output_type": "execute_result"
    }
   ],
   "source": [
    "df.describe()"
   ]
  },
  {
   "cell_type": "code",
   "execution_count": 9,
   "metadata": {},
   "outputs": [
    {
     "data": {
      "text/html": [
       "<div>\n",
       "<style scoped>\n",
       "    .dataframe tbody tr th:only-of-type {\n",
       "        vertical-align: middle;\n",
       "    }\n",
       "\n",
       "    .dataframe tbody tr th {\n",
       "        vertical-align: top;\n",
       "    }\n",
       "\n",
       "    .dataframe thead th {\n",
       "        text-align: right;\n",
       "    }\n",
       "</style>\n",
       "<table border=\"1\" class=\"dataframe\">\n",
       "  <thead>\n",
       "    <tr style=\"text-align: right;\">\n",
       "      <th></th>\n",
       "      <th>title</th>\n",
       "      <th>score</th>\n",
       "      <th>id</th>\n",
       "      <th>url</th>\n",
       "      <th>comms_num</th>\n",
       "      <th>created</th>\n",
       "      <th>body</th>\n",
       "      <th>timestamp</th>\n",
       "    </tr>\n",
       "  </thead>\n",
       "  <tbody>\n",
       "    <tr>\n",
       "      <th>2</th>\n",
       "      <td>Evidence that Suggests Wuhan Market was Not th...</td>\n",
       "      <td>25</td>\n",
       "      <td>f0tsly</td>\n",
       "      <td>https://www.reddit.com/r/ConspiracyTheory/comm...</td>\n",
       "      <td>15</td>\n",
       "      <td>1.581179e+09</td>\n",
       "      <td>I have marked a rudimentary chart, each new in...</td>\n",
       "      <td>2020-02-08 18:27:15</td>\n",
       "    </tr>\n",
       "    <tr>\n",
       "      <th>7</th>\n",
       "      <td>A batch of quietly released documents confirms...</td>\n",
       "      <td>15</td>\n",
       "      <td>ewvdam</td>\n",
       "      <td>https://jacobinmag.com/2020/01/ronald-reagan-o...</td>\n",
       "      <td>1</td>\n",
       "      <td>1.580506e+09</td>\n",
       "      <td>NaN</td>\n",
       "      <td>2020-01-31 23:33:24</td>\n",
       "    </tr>\n",
       "    <tr>\n",
       "      <th>284</th>\n",
       "      <td>Our world is a sim Mandela Effect explained</td>\n",
       "      <td>13</td>\n",
       "      <td>7vtawt</td>\n",
       "      <td>https://www.reddit.com/r/ConspiracyTheory/comm...</td>\n",
       "      <td>7</td>\n",
       "      <td>1.517975e+09</td>\n",
       "      <td>Ok say our world is a simulation, our \"subcons...</td>\n",
       "      <td>2018-02-07 05:41:01</td>\n",
       "    </tr>\n",
       "    <tr>\n",
       "      <th>220</th>\n",
       "      <td>Sounds like farming to me.</td>\n",
       "      <td>13</td>\n",
       "      <td>a36a8r</td>\n",
       "      <td>https://i.redd.it/lnlb45e5jc221.jpg</td>\n",
       "      <td>0</td>\n",
       "      <td>1.543966e+09</td>\n",
       "      <td>NaN</td>\n",
       "      <td>2018-12-05 01:32:32</td>\n",
       "    </tr>\n",
       "    <tr>\n",
       "      <th>5</th>\n",
       "      <td>Avast has been recording your browsing behavio...</td>\n",
       "      <td>12</td>\n",
       "      <td>ezfj1v</td>\n",
       "      <td>https://www.vice.com/en_us/article/qjdkq7/avas...</td>\n",
       "      <td>5</td>\n",
       "      <td>1.580933e+09</td>\n",
       "      <td>NaN</td>\n",
       "      <td>2020-02-05 22:09:23</td>\n",
       "    </tr>\n",
       "    <tr>\n",
       "      <th>...</th>\n",
       "      <td>...</td>\n",
       "      <td>...</td>\n",
       "      <td>...</td>\n",
       "      <td>...</td>\n",
       "      <td>...</td>\n",
       "      <td>...</td>\n",
       "      <td>...</td>\n",
       "      <td>...</td>\n",
       "    </tr>\n",
       "    <tr>\n",
       "      <th>1086</th>\n",
       "      <td>Comment</td>\n",
       "      <td>-1</td>\n",
       "      <td>cm200nx</td>\n",
       "      <td>NaN</td>\n",
       "      <td>0</td>\n",
       "      <td>1.415934e+09</td>\n",
       "      <td>I love your name.</td>\n",
       "      <td>2014-11-14 04:57:58</td>\n",
       "    </tr>\n",
       "    <tr>\n",
       "      <th>866</th>\n",
       "      <td>Comment</td>\n",
       "      <td>-1</td>\n",
       "      <td>dxm1wez</td>\n",
       "      <td>NaN</td>\n",
       "      <td>0</td>\n",
       "      <td>1.524117e+09</td>\n",
       "      <td>Why not just post the link?</td>\n",
       "      <td>2018-04-19 08:42:51</td>\n",
       "    </tr>\n",
       "    <tr>\n",
       "      <th>1113</th>\n",
       "      <td>Comment</td>\n",
       "      <td>-1</td>\n",
       "      <td>ccvjsak</td>\n",
       "      <td>NaN</td>\n",
       "      <td>0</td>\n",
       "      <td>1.382267e+09</td>\n",
       "      <td>It seems to me that your problems started when...</td>\n",
       "      <td>2013-10-20 14:07:08</td>\n",
       "    </tr>\n",
       "    <tr>\n",
       "      <th>1104</th>\n",
       "      <td>Comment</td>\n",
       "      <td>-1</td>\n",
       "      <td>cgigljk</td>\n",
       "      <td>NaN</td>\n",
       "      <td>0</td>\n",
       "      <td>1.396472e+09</td>\n",
       "      <td>proof of Photoshop confirmed. thank you op</td>\n",
       "      <td>2014-04-02 23:54:39</td>\n",
       "    </tr>\n",
       "    <tr>\n",
       "      <th>1160</th>\n",
       "      <td>Comment</td>\n",
       "      <td>-4</td>\n",
       "      <td>c6uyfxm</td>\n",
       "      <td>NaN</td>\n",
       "      <td>0</td>\n",
       "      <td>1.351798e+09</td>\n",
       "      <td>My prediction is that Obama will lose because ...</td>\n",
       "      <td>2012-11-01 21:25:28</td>\n",
       "    </tr>\n",
       "  </tbody>\n",
       "</table>\n",
       "<p>1177 rows × 8 columns</p>\n",
       "</div>"
      ],
      "text/plain": [
       "                                                  title  score       id  \\\n",
       "2     Evidence that Suggests Wuhan Market was Not th...     25   f0tsly   \n",
       "7     A batch of quietly released documents confirms...     15   ewvdam   \n",
       "284         Our world is a sim Mandela Effect explained     13   7vtawt   \n",
       "220                          Sounds like farming to me.     13   a36a8r   \n",
       "5     Avast has been recording your browsing behavio...     12   ezfj1v   \n",
       "...                                                 ...    ...      ...   \n",
       "1086                                            Comment     -1  cm200nx   \n",
       "866                                             Comment     -1  dxm1wez   \n",
       "1113                                            Comment     -1  ccvjsak   \n",
       "1104                                            Comment     -1  cgigljk   \n",
       "1160                                            Comment     -4  c6uyfxm   \n",
       "\n",
       "                                                    url  comms_num  \\\n",
       "2     https://www.reddit.com/r/ConspiracyTheory/comm...         15   \n",
       "7     https://jacobinmag.com/2020/01/ronald-reagan-o...          1   \n",
       "284   https://www.reddit.com/r/ConspiracyTheory/comm...          7   \n",
       "220                 https://i.redd.it/lnlb45e5jc221.jpg          0   \n",
       "5     https://www.vice.com/en_us/article/qjdkq7/avas...          5   \n",
       "...                                                 ...        ...   \n",
       "1086                                                NaN          0   \n",
       "866                                                 NaN          0   \n",
       "1113                                                NaN          0   \n",
       "1104                                                NaN          0   \n",
       "1160                                                NaN          0   \n",
       "\n",
       "           created                                               body  \\\n",
       "2     1.581179e+09  I have marked a rudimentary chart, each new in...   \n",
       "7     1.580506e+09                                                NaN   \n",
       "284   1.517975e+09  Ok say our world is a simulation, our \"subcons...   \n",
       "220   1.543966e+09                                                NaN   \n",
       "5     1.580933e+09                                                NaN   \n",
       "...            ...                                                ...   \n",
       "1086  1.415934e+09                                  I love your name.   \n",
       "866   1.524117e+09                        Why not just post the link?   \n",
       "1113  1.382267e+09  It seems to me that your problems started when...   \n",
       "1104  1.396472e+09         proof of Photoshop confirmed. thank you op   \n",
       "1160  1.351798e+09  My prediction is that Obama will lose because ...   \n",
       "\n",
       "                timestamp  \n",
       "2     2020-02-08 18:27:15  \n",
       "7     2020-01-31 23:33:24  \n",
       "284   2018-02-07 05:41:01  \n",
       "220   2018-12-05 01:32:32  \n",
       "5     2020-02-05 22:09:23  \n",
       "...                   ...  \n",
       "1086  2014-11-14 04:57:58  \n",
       "866   2018-04-19 08:42:51  \n",
       "1113  2013-10-20 14:07:08  \n",
       "1104  2014-04-02 23:54:39  \n",
       "1160  2012-11-01 21:25:28  \n",
       "\n",
       "[1177 rows x 8 columns]"
      ]
     },
     "execution_count": 9,
     "metadata": {},
     "output_type": "execute_result"
    }
   ],
   "source": [
    "df.sort_values(by = ['score'], ascending = False)"
   ]
  },
  {
   "cell_type": "code",
   "execution_count": 33,
   "metadata": {},
   "outputs": [
    {
     "data": {
      "text/html": [
       "<div>\n",
       "<style scoped>\n",
       "    .dataframe tbody tr th:only-of-type {\n",
       "        vertical-align: middle;\n",
       "    }\n",
       "\n",
       "    .dataframe tbody tr th {\n",
       "        vertical-align: top;\n",
       "    }\n",
       "\n",
       "    .dataframe thead th {\n",
       "        text-align: right;\n",
       "    }\n",
       "</style>\n",
       "<table border=\"1\" class=\"dataframe\">\n",
       "  <thead>\n",
       "    <tr style=\"text-align: right;\">\n",
       "      <th></th>\n",
       "      <th>title</th>\n",
       "      <th>score</th>\n",
       "      <th>id</th>\n",
       "      <th>url</th>\n",
       "      <th>comms_num</th>\n",
       "      <th>created</th>\n",
       "      <th>body</th>\n",
       "      <th>timestamp</th>\n",
       "    </tr>\n",
       "  </thead>\n",
       "  <tbody>\n",
       "    <tr>\n",
       "      <th>2</th>\n",
       "      <td>Evidence that Suggests Wuhan Market was Not th...</td>\n",
       "      <td>25</td>\n",
       "      <td>f0tsly</td>\n",
       "      <td>https://www.reddit.com/r/ConspiracyTheory/comm...</td>\n",
       "      <td>15</td>\n",
       "      <td>1.581179e+09</td>\n",
       "      <td>I have marked a rudimentary chart, each new in...</td>\n",
       "      <td>2020-02-08 18:27:15</td>\n",
       "    </tr>\n",
       "  </tbody>\n",
       "</table>\n",
       "</div>"
      ],
      "text/plain": [
       "                                               title  score      id  \\\n",
       "2  Evidence that Suggests Wuhan Market was Not th...     25  f0tsly   \n",
       "\n",
       "                                                 url  comms_num       created  \\\n",
       "2  https://www.reddit.com/r/ConspiracyTheory/comm...         15  1.581179e+09   \n",
       "\n",
       "                                                body            timestamp  \n",
       "2  I have marked a rudimentary chart, each new in...  2020-02-08 18:27:15  "
      ]
     },
     "execution_count": 33,
     "metadata": {},
     "output_type": "execute_result"
    }
   ],
   "source": [
    "#get the title of the post with the highest score\n",
    "df.loc[df.score == df.score.max()]"
   ]
  },
  {
   "cell_type": "markdown",
   "metadata": {},
   "source": [
    "## Try to see if there is a correlation between comments number and score."
   ]
  },
  {
   "cell_type": "code",
   "execution_count": 53,
   "metadata": {},
   "outputs": [
    {
     "data": {
      "text/html": [
       "<div>\n",
       "<style scoped>\n",
       "    .dataframe tbody tr th:only-of-type {\n",
       "        vertical-align: middle;\n",
       "    }\n",
       "\n",
       "    .dataframe tbody tr th {\n",
       "        vertical-align: top;\n",
       "    }\n",
       "\n",
       "    .dataframe thead th {\n",
       "        text-align: right;\n",
       "    }\n",
       "</style>\n",
       "<table border=\"1\" class=\"dataframe\">\n",
       "  <thead>\n",
       "    <tr style=\"text-align: right;\">\n",
       "      <th></th>\n",
       "      <th>title</th>\n",
       "      <th>score</th>\n",
       "      <th>id</th>\n",
       "      <th>url</th>\n",
       "      <th>comms_num</th>\n",
       "      <th>created</th>\n",
       "      <th>body</th>\n",
       "      <th>timestamp</th>\n",
       "    </tr>\n",
       "  </thead>\n",
       "  <tbody>\n",
       "    <tr>\n",
       "      <th>0</th>\n",
       "      <td>Jimmy Fallon might be in the closet gay, or Bi...</td>\n",
       "      <td>6</td>\n",
       "      <td>f2r2s5</td>\n",
       "      <td>https://www.reddit.com/r/ConspiracyTheory/comm...</td>\n",
       "      <td>15</td>\n",
       "      <td>1.581513e+09</td>\n",
       "      <td>Recently me and some of my friends have been n...</td>\n",
       "      <td>2020-02-12 15:17:50</td>\n",
       "    </tr>\n",
       "    <tr>\n",
       "      <th>1</th>\n",
       "      <td>NBA Players who are Part of the Secret Illuminati</td>\n",
       "      <td>11</td>\n",
       "      <td>f1b44j</td>\n",
       "      <td>https://youtu.be/osrWcunuMbQ</td>\n",
       "      <td>2</td>\n",
       "      <td>1.581266e+09</td>\n",
       "      <td>NaN</td>\n",
       "      <td>2020-02-09 18:41:12</td>\n",
       "    </tr>\n",
       "    <tr>\n",
       "      <th>2</th>\n",
       "      <td>Evidence that Suggests Wuhan Market was Not th...</td>\n",
       "      <td>25</td>\n",
       "      <td>f0tsly</td>\n",
       "      <td>https://www.reddit.com/r/ConspiracyTheory/comm...</td>\n",
       "      <td>15</td>\n",
       "      <td>1.581179e+09</td>\n",
       "      <td>I have marked a rudimentary chart, each new in...</td>\n",
       "      <td>2020-02-08 18:27:15</td>\n",
       "    </tr>\n",
       "    <tr>\n",
       "      <th>3</th>\n",
       "      <td>US Navy Vet - Worked in Afghanistan, Iraq, Sud...</td>\n",
       "      <td>2</td>\n",
       "      <td>f0dddo</td>\n",
       "      <td>https://i.redd.it/hp4x7l90ajf41.jpg</td>\n",
       "      <td>0</td>\n",
       "      <td>1.581095e+09</td>\n",
       "      <td>NaN</td>\n",
       "      <td>2020-02-07 19:05:26</td>\n",
       "    </tr>\n",
       "    <tr>\n",
       "      <th>4</th>\n",
       "      <td>New Details Show How Deeply Iowa Caucus App De...</td>\n",
       "      <td>7</td>\n",
       "      <td>ezzad1</td>\n",
       "      <td>https://theintercept.com/2020/02/04/iowa-caucu...</td>\n",
       "      <td>2</td>\n",
       "      <td>1.581024e+09</td>\n",
       "      <td>NaN</td>\n",
       "      <td>2020-02-06 23:18:15</td>\n",
       "    </tr>\n",
       "    <tr>\n",
       "      <th>...</th>\n",
       "      <td>...</td>\n",
       "      <td>...</td>\n",
       "      <td>...</td>\n",
       "      <td>...</td>\n",
       "      <td>...</td>\n",
       "      <td>...</td>\n",
       "      <td>...</td>\n",
       "      <td>...</td>\n",
       "    </tr>\n",
       "    <tr>\n",
       "      <th>417</th>\n",
       "      <td>Theory on Romney winning. (not because I would...</td>\n",
       "      <td>0</td>\n",
       "      <td>12goxg</td>\n",
       "      <td>https://www.reddit.com/r/ConspiracyTheory/comm...</td>\n",
       "      <td>2</td>\n",
       "      <td>1.351787e+09</td>\n",
       "      <td>* Romney lies to Ohio voters about Jeep closin...</td>\n",
       "      <td>2012-11-01 18:18:42</td>\n",
       "    </tr>\n",
       "    <tr>\n",
       "      <th>418</th>\n",
       "      <td>Facebook Conspiracy Theory\\n\\n</td>\n",
       "      <td>0</td>\n",
       "      <td>128gro</td>\n",
       "      <td>https://www.reddit.com/r/ConspiracyTheory/comm...</td>\n",
       "      <td>0</td>\n",
       "      <td>1.351456e+09</td>\n",
       "      <td>Facebook thought that I had a virus. Being con...</td>\n",
       "      <td>2012-10-28 22:30:34</td>\n",
       "    </tr>\n",
       "    <tr>\n",
       "      <th>419</th>\n",
       "      <td>AutoModerator is set to approve everything.</td>\n",
       "      <td>0</td>\n",
       "      <td>11n4wp</td>\n",
       "      <td>https://www.reddit.com/r/ConspiracyTheory/comm...</td>\n",
       "      <td>0</td>\n",
       "      <td>1.350498e+09</td>\n",
       "      <td>If we want it to do other things (e.g., remove...</td>\n",
       "      <td>2012-10-17 21:26:16</td>\n",
       "    </tr>\n",
       "    <tr>\n",
       "      <th>420</th>\n",
       "      <td>Is a one world government possible or stable?</td>\n",
       "      <td>0</td>\n",
       "      <td>y0fkg</td>\n",
       "      <td>http://alexk2009.hubpages.com/hub/Could-we-eve...</td>\n",
       "      <td>3</td>\n",
       "      <td>1.344627e+09</td>\n",
       "      <td>NaN</td>\n",
       "      <td>2012-08-10 22:24:46</td>\n",
       "    </tr>\n",
       "    <tr>\n",
       "      <th>421</th>\n",
       "      <td>Oh, the drama and controversy. Well, let's get...</td>\n",
       "      <td>1</td>\n",
       "      <td>11mgcd</td>\n",
       "      <td>https://www.reddit.com/r/ConspiracyTheory/comm...</td>\n",
       "      <td>8</td>\n",
       "      <td>1.350469e+09</td>\n",
       "      <td>This account got shadowbanned, so I never went...</td>\n",
       "      <td>2012-10-17 13:08:36</td>\n",
       "    </tr>\n",
       "  </tbody>\n",
       "</table>\n",
       "<p>422 rows × 8 columns</p>\n",
       "</div>"
      ],
      "text/plain": [
       "                                                 title  score      id  \\\n",
       "0    Jimmy Fallon might be in the closet gay, or Bi...      6  f2r2s5   \n",
       "1    NBA Players who are Part of the Secret Illuminati     11  f1b44j   \n",
       "2    Evidence that Suggests Wuhan Market was Not th...     25  f0tsly   \n",
       "3    US Navy Vet - Worked in Afghanistan, Iraq, Sud...      2  f0dddo   \n",
       "4    New Details Show How Deeply Iowa Caucus App De...      7  ezzad1   \n",
       "..                                                 ...    ...     ...   \n",
       "417  Theory on Romney winning. (not because I would...      0  12goxg   \n",
       "418                     Facebook Conspiracy Theory\\n\\n      0  128gro   \n",
       "419        AutoModerator is set to approve everything.      0  11n4wp   \n",
       "420      Is a one world government possible or stable?      0   y0fkg   \n",
       "421  Oh, the drama and controversy. Well, let's get...      1  11mgcd   \n",
       "\n",
       "                                                   url  comms_num  \\\n",
       "0    https://www.reddit.com/r/ConspiracyTheory/comm...         15   \n",
       "1                         https://youtu.be/osrWcunuMbQ          2   \n",
       "2    https://www.reddit.com/r/ConspiracyTheory/comm...         15   \n",
       "3                  https://i.redd.it/hp4x7l90ajf41.jpg          0   \n",
       "4    https://theintercept.com/2020/02/04/iowa-caucu...          2   \n",
       "..                                                 ...        ...   \n",
       "417  https://www.reddit.com/r/ConspiracyTheory/comm...          2   \n",
       "418  https://www.reddit.com/r/ConspiracyTheory/comm...          0   \n",
       "419  https://www.reddit.com/r/ConspiracyTheory/comm...          0   \n",
       "420  http://alexk2009.hubpages.com/hub/Could-we-eve...          3   \n",
       "421  https://www.reddit.com/r/ConspiracyTheory/comm...          8   \n",
       "\n",
       "          created                                               body  \\\n",
       "0    1.581513e+09  Recently me and some of my friends have been n...   \n",
       "1    1.581266e+09                                                NaN   \n",
       "2    1.581179e+09  I have marked a rudimentary chart, each new in...   \n",
       "3    1.581095e+09                                                NaN   \n",
       "4    1.581024e+09                                                NaN   \n",
       "..            ...                                                ...   \n",
       "417  1.351787e+09  * Romney lies to Ohio voters about Jeep closin...   \n",
       "418  1.351456e+09  Facebook thought that I had a virus. Being con...   \n",
       "419  1.350498e+09  If we want it to do other things (e.g., remove...   \n",
       "420  1.344627e+09                                                NaN   \n",
       "421  1.350469e+09  This account got shadowbanned, so I never went...   \n",
       "\n",
       "               timestamp  \n",
       "0    2020-02-12 15:17:50  \n",
       "1    2020-02-09 18:41:12  \n",
       "2    2020-02-08 18:27:15  \n",
       "3    2020-02-07 19:05:26  \n",
       "4    2020-02-06 23:18:15  \n",
       "..                   ...  \n",
       "417  2012-11-01 18:18:42  \n",
       "418  2012-10-28 22:30:34  \n",
       "419  2012-10-17 21:26:16  \n",
       "420  2012-08-10 22:24:46  \n",
       "421  2012-10-17 13:08:36  \n",
       "\n",
       "[422 rows x 8 columns]"
      ]
     },
     "execution_count": 53,
     "metadata": {},
     "output_type": "execute_result"
    }
   ],
   "source": [
    "#get a dataframe where the title is not Comments\n",
    "no_com = df.loc[df['title'] != 'Comment']\n",
    "no_com"
   ]
  },
  {
   "cell_type": "code",
   "execution_count": 54,
   "metadata": {},
   "outputs": [],
   "source": [
    "comments = no_com.comms_num.copy()\n",
    "comments\n",
    "comments = comments.to_numpy()"
   ]
  },
  {
   "cell_type": "code",
   "execution_count": 55,
   "metadata": {},
   "outputs": [],
   "source": [
    "score = no_com.score.copy()\n",
    "score\n",
    "score = score.to_numpy()"
   ]
  },
  {
   "cell_type": "code",
   "execution_count": 58,
   "metadata": {},
   "outputs": [
    {
     "data": {
      "text/plain": [
       "422"
      ]
     },
     "execution_count": 58,
     "metadata": {},
     "output_type": "execute_result"
    }
   ],
   "source": [
    "score.size\n",
    "comments.size"
   ]
  },
  {
   "cell_type": "code",
   "execution_count": 59,
   "metadata": {},
   "outputs": [
    {
     "data": {
      "image/png": "[encoded data removed]",
      "text/plain": [
       "<Figure size 432x288 with 1 Axes>"
      ]
     },
     "metadata": {
      "needs_background": "light"
     },
     "output_type": "display_data"
    }
   ],
   "source": [
    "plt.hist(score, bins = 10)\n",
    "plt.title('Score')\n",
    "plt.show();"
   ]
  },
  {
   "cell_type": "code",
   "execution_count": 60,
   "metadata": {
    "scrolled": true
   },
   "outputs": [
    {
     "data": {
      "image/png": "[encoded data removed]",
      "text/plain": [
       "<Figure size 432x288 with 1 Axes>"
      ]
     },
     "metadata": {
      "needs_background": "light"
     },
     "output_type": "display_data"
    }
   ],
   "source": [
    "plt.hist(comments, bins = 10)\n",
    "plt.title('Comments')\n",
    "plt.show();"
   ]
  },
  {
   "cell_type": "code",
   "execution_count": 61,
   "metadata": {},
   "outputs": [
    {
     "data": {
      "image/png": "[encoded data removed]",
      "text/plain": [
       "<Figure size 432x288 with 1 Axes>"
      ]
     },
     "metadata": {
      "needs_background": "light"
     },
     "output_type": "display_data"
    }
   ],
   "source": [
    "plt.scatter(score, comments)\n",
    "plt.xlabel('Comment Number')\n",
    "plt.ylabel('Post Score')\n",
    "plt.title('Comments Number to Post Score')\n",
    "plt.show();"
   ]
  },
  {
   "cell_type": "code",
   "execution_count": 62,
   "metadata": {},
   "outputs": [],
   "source": [
    "plt.style.use(\"seaborn\")\n",
    "import seaborn as sns"
   ]
  },
  {
   "cell_type": "code",
   "execution_count": 63,
   "metadata": {},
   "outputs": [],
   "source": [
    "#X is comments, Y is score\n",
    "X = comments.astype(float)\n",
    "Y = score.astype(float)"
   ]
  },
  {
   "cell_type": "code",
   "execution_count": 64,
   "metadata": {},
   "outputs": [],
   "source": [
    "denominator = X.dot(X) - X.mean() * X.sum()\n",
    "a = (X.dot(Y) - Y.mean() * X.sum()) / denominator\n",
    "b = (Y.mean() * X.dot(X) - X.mean() * X.dot(Y)) / denominator"
   ]
  },
  {
   "cell_type": "code",
   "execution_count": 65,
   "metadata": {},
   "outputs": [
    {
     "name": "stdout",
     "output_type": "stream",
     "text": [
      "[ 6.63946901  2.6118196   6.63946901  1.99218123  2.6118196   3.54127716\n",
      "  2.6118196   2.30200041  1.99218123  1.99218123  2.30200041  1.99218123\n",
      " 11.2867568   3.54127716  2.30200041  1.99218123  3.54127716  2.92163878\n",
      "  1.99218123  2.92163878  1.99218123  1.99218123  2.30200041  1.99218123\n",
      "  2.30200041  1.99218123  2.30200041  1.99218123  1.99218123  2.30200041\n",
      "  1.99218123  2.30200041  2.30200041  2.30200041  1.99218123  2.30200041\n",
      "  2.6118196   1.99218123  2.30200041  1.99218123  1.99218123  1.99218123\n",
      "  1.99218123  2.30200041  2.30200041  1.99218123  2.6118196   2.30200041\n",
      "  1.99218123  1.99218123  2.30200041  1.99218123  1.99218123  1.99218123\n",
      "  2.6118196   2.6118196   2.30200041  1.99218123  1.99218123  2.30200041\n",
      "  1.99218123  2.92163878  1.99218123  1.99218123  1.99218123  1.99218123\n",
      "  1.99218123  1.99218123  1.99218123  1.99218123  1.99218123  1.99218123\n",
      "  2.30200041  1.99218123  2.30200041  3.23145797  1.99218123  1.99218123\n",
      "  2.30200041  1.99218123  1.99218123  2.30200041  1.99218123  1.99218123\n",
      "  1.99218123  1.99218123  1.99218123  2.30200041  2.30200041  2.30200041\n",
      "  2.30200041  2.30200041  2.30200041  1.99218123  1.99218123  1.99218123\n",
      "  2.92163878  1.99218123  1.99218123  1.99218123  1.99218123  1.99218123\n",
      "  1.99218123  1.99218123  1.99218123  1.99218123  2.30200041  1.99218123\n",
      "  1.99218123  2.92163878  1.99218123  1.99218123  3.54127716  1.99218123\n",
      "  1.99218123  2.30200041  1.99218123  1.99218123  1.99218123  1.99218123\n",
      "  3.23145797  3.23145797  2.92163878  1.99218123  1.99218123  1.99218123\n",
      "  1.99218123  2.30200041  1.99218123  1.99218123  2.6118196   1.99218123\n",
      "  2.30200041  1.99218123  1.99218123  1.99218123  1.99218123  1.99218123\n",
      "  2.30200041  2.30200041  2.30200041  1.99218123  2.30200041  1.99218123\n",
      "  1.99218123  2.30200041  2.30200041  1.99218123  1.99218123  1.99218123\n",
      "  1.99218123  2.92163878  1.99218123  1.99218123  1.99218123  1.99218123\n",
      "  1.99218123  1.99218123  1.99218123  1.99218123  1.99218123  1.99218123\n",
      "  1.99218123  2.6118196   1.99218123  2.30200041  2.30200041  3.54127716\n",
      "  1.99218123  3.23145797  2.6118196   1.99218123  1.99218123  2.30200041\n",
      "  2.30200041  1.99218123  1.99218123  2.6118196   1.99218123  1.99218123\n",
      "  1.99218123  1.99218123  2.6118196   1.99218123  1.99218123  2.92163878\n",
      "  1.99218123  2.30200041  5.09037308  1.99218123  1.99218123  1.99218123\n",
      "  2.30200041  1.99218123  2.92163878  2.30200041  2.6118196   3.54127716\n",
      "  2.30200041  2.92163878  6.32964983  1.99218123  4.47073471  2.6118196\n",
      "  1.99218123  4.7805539   2.6118196   2.30200041  1.99218123  1.99218123\n",
      "  3.85109634  2.92163878  2.92163878  1.99218123  1.99218123  1.99218123\n",
      "  1.99218123  1.99218123  1.99218123  2.6118196   1.99218123  2.6118196\n",
      "  1.99218123  2.30200041  1.99218123  5.09037308  2.6118196   1.99218123\n",
      "  1.99218123  2.30200041  1.99218123  1.99218123  2.30200041  1.99218123\n",
      "  1.99218123  1.99218123  1.99218123  1.99218123  2.6118196   2.30200041\n",
      "  1.99218123  2.30200041  3.23145797  2.92163878  2.30200041  1.99218123\n",
      "  1.99218123  3.23145797  1.99218123  1.99218123  1.99218123  1.99218123\n",
      "  7.56892657  2.30200041  1.99218123  1.99218123  2.30200041  3.23145797\n",
      "  1.99218123  2.6118196   2.30200041  6.32964983  1.99218123  2.6118196\n",
      "  1.99218123  1.99218123  2.6118196   1.99218123  3.23145797  2.30200041\n",
      "  2.92163878  4.16091553  2.92163878  3.54127716  2.6118196   2.30200041\n",
      "  2.6118196   1.99218123  2.6118196   3.54127716  2.30200041  1.99218123\n",
      "  1.99218123  2.6118196   4.16091553  1.99218123  1.99218123  3.23145797\n",
      "  2.30200041  1.99218123  2.92163878  1.99218123  2.30200041  1.99218123\n",
      "  2.6118196   3.54127716  1.99218123  2.30200041  2.30200041  2.30200041\n",
      "  1.99218123  4.7805539   3.23145797  2.6118196   1.99218123  1.99218123\n",
      "  2.30200041  1.99218123  2.30200041  1.99218123  5.71001146  2.6118196\n",
      "  1.99218123  2.30200041  1.99218123  2.30200041  2.30200041  3.23145797\n",
      "  1.99218123  2.30200041  2.30200041  4.16091553  2.30200041  1.99218123\n",
      "  1.99218123  2.30200041  3.54127716  2.30200041  2.30200041  2.6118196\n",
      "  2.30200041  2.6118196   2.30200041  3.54127716  1.99218123  2.6118196\n",
      "  2.30200041  2.6118196   2.30200041  2.30200041  1.99218123  1.99218123\n",
      "  2.30200041  3.23145797  2.30200041  2.30200041  2.30200041  1.99218123\n",
      "  1.99218123  2.30200041  1.99218123  2.92163878  1.99218123  2.92163878\n",
      "  3.85109634  2.92163878  2.92163878  2.92163878  1.99218123  2.6118196\n",
      "  3.23145797  1.99218123  2.6118196   1.99218123  1.99218123  1.99218123\n",
      "  1.99218123  2.30200041  2.30200041  1.99218123  1.99218123  1.99218123\n",
      "  1.99218123  2.6118196   1.99218123  1.99218123  2.6118196   2.6118196\n",
      "  2.6118196   1.99218123  3.23145797  2.30200041  1.99218123  2.6118196\n",
      "  1.99218123  2.6118196   2.92163878  2.92163878  2.30200041  1.99218123\n",
      "  2.6118196   1.99218123  1.99218123  2.30200041  2.6118196   2.30200041\n",
      "  2.6118196   2.6118196   1.99218123  3.23145797  2.92163878  2.30200041\n",
      "  1.99218123  2.6118196   2.30200041  2.30200041  6.01983064  2.30200041\n",
      "  2.92163878  1.99218123  1.99218123  3.54127716  1.99218123  1.99218123\n",
      "  2.30200041  2.30200041  3.23145797  2.6118196   1.99218123  1.99218123\n",
      "  2.92163878  4.47073471]\n"
     ]
    }
   ],
   "source": [
    "# calculate predicted Y\n",
    "Yhat = a * X + b\n",
    "print(Yhat)"
   ]
  },
  {
   "cell_type": "code",
   "execution_count": 66,
   "metadata": {},
   "outputs": [
    {
     "data": {
      "image/png": "[encoded data removed]",
      "text/plain": [
       "<Figure size 576x396 with 1 Axes>"
      ]
     },
     "metadata": {},
     "output_type": "display_data"
    }
   ],
   "source": [
    "#plot it all\n",
    "plt.scatter(X, Y)\n",
    "plt.plot(X, Yhat) # line of best fit\n",
    "plt.show();"
   ]
  },
  {
   "cell_type": "code",
   "execution_count": 67,
   "metadata": {},
   "outputs": [
    {
     "name": "stdout",
     "output_type": "stream",
     "text": [
      "R-Squared is 0.11238578168957114\n"
     ]
    }
   ],
   "source": [
    "#calculate r-squared\n",
    "d1 = Y - Yhat\n",
    "d2 = Y - Y.mean()\n",
    "r2 = 1 - d1.dot(d1) / d2.dot(d2)\n",
    "print(\"R-Squared is\", r2)"
   ]
  },
  {
   "cell_type": "markdown",
   "metadata": {},
   "source": [
    "## Try to see if there is a correlation between post length (body) and score."
   ]
  },
  {
   "cell_type": "code",
   "execution_count": 68,
   "metadata": {},
   "outputs": [
    {
     "data": {
      "text/html": [
       "<div>\n",
       "<style scoped>\n",
       "    .dataframe tbody tr th:only-of-type {\n",
       "        vertical-align: middle;\n",
       "    }\n",
       "\n",
       "    .dataframe tbody tr th {\n",
       "        vertical-align: top;\n",
       "    }\n",
       "\n",
       "    .dataframe thead th {\n",
       "        text-align: right;\n",
       "    }\n",
       "</style>\n",
       "<table border=\"1\" class=\"dataframe\">\n",
       "  <thead>\n",
       "    <tr style=\"text-align: right;\">\n",
       "      <th></th>\n",
       "      <th>title</th>\n",
       "      <th>score</th>\n",
       "      <th>id</th>\n",
       "      <th>url</th>\n",
       "      <th>comms_num</th>\n",
       "      <th>created</th>\n",
       "      <th>body</th>\n",
       "      <th>timestamp</th>\n",
       "    </tr>\n",
       "  </thead>\n",
       "  <tbody>\n",
       "    <tr>\n",
       "      <th>0</th>\n",
       "      <td>Jimmy Fallon might be in the closet gay, or Bi...</td>\n",
       "      <td>6</td>\n",
       "      <td>f2r2s5</td>\n",
       "      <td>https://www.reddit.com/r/ConspiracyTheory/comm...</td>\n",
       "      <td>15</td>\n",
       "      <td>1.581513e+09</td>\n",
       "      <td>Recently me and some of my friends have been n...</td>\n",
       "      <td>2020-02-12 15:17:50</td>\n",
       "    </tr>\n",
       "    <tr>\n",
       "      <th>1</th>\n",
       "      <td>NBA Players who are Part of the Secret Illuminati</td>\n",
       "      <td>11</td>\n",
       "      <td>f1b44j</td>\n",
       "      <td>https://youtu.be/osrWcunuMbQ</td>\n",
       "      <td>2</td>\n",
       "      <td>1.581266e+09</td>\n",
       "      <td>NaN</td>\n",
       "      <td>2020-02-09 18:41:12</td>\n",
       "    </tr>\n",
       "    <tr>\n",
       "      <th>2</th>\n",
       "      <td>Evidence that Suggests Wuhan Market was Not th...</td>\n",
       "      <td>25</td>\n",
       "      <td>f0tsly</td>\n",
       "      <td>https://www.reddit.com/r/ConspiracyTheory/comm...</td>\n",
       "      <td>15</td>\n",
       "      <td>1.581179e+09</td>\n",
       "      <td>I have marked a rudimentary chart, each new in...</td>\n",
       "      <td>2020-02-08 18:27:15</td>\n",
       "    </tr>\n",
       "    <tr>\n",
       "      <th>3</th>\n",
       "      <td>US Navy Vet - Worked in Afghanistan, Iraq, Sud...</td>\n",
       "      <td>2</td>\n",
       "      <td>f0dddo</td>\n",
       "      <td>https://i.redd.it/hp4x7l90ajf41.jpg</td>\n",
       "      <td>0</td>\n",
       "      <td>1.581095e+09</td>\n",
       "      <td>NaN</td>\n",
       "      <td>2020-02-07 19:05:26</td>\n",
       "    </tr>\n",
       "    <tr>\n",
       "      <th>4</th>\n",
       "      <td>New Details Show How Deeply Iowa Caucus App De...</td>\n",
       "      <td>7</td>\n",
       "      <td>ezzad1</td>\n",
       "      <td>https://theintercept.com/2020/02/04/iowa-caucu...</td>\n",
       "      <td>2</td>\n",
       "      <td>1.581024e+09</td>\n",
       "      <td>NaN</td>\n",
       "      <td>2020-02-06 23:18:15</td>\n",
       "    </tr>\n",
       "    <tr>\n",
       "      <th>...</th>\n",
       "      <td>...</td>\n",
       "      <td>...</td>\n",
       "      <td>...</td>\n",
       "      <td>...</td>\n",
       "      <td>...</td>\n",
       "      <td>...</td>\n",
       "      <td>...</td>\n",
       "      <td>...</td>\n",
       "    </tr>\n",
       "    <tr>\n",
       "      <th>1172</th>\n",
       "      <td>Comment</td>\n",
       "      <td>3</td>\n",
       "      <td>c6nq6do</td>\n",
       "      <td>NaN</td>\n",
       "      <td>0</td>\n",
       "      <td>1.350471e+09</td>\n",
       "      <td>[Yeah, yeah. I know.](http://www.youtube.com/w...</td>\n",
       "      <td>2012-10-17 13:43:29</td>\n",
       "    </tr>\n",
       "    <tr>\n",
       "      <th>1173</th>\n",
       "      <td>Comment</td>\n",
       "      <td>2</td>\n",
       "      <td>c6nq1wx</td>\n",
       "      <td>NaN</td>\n",
       "      <td>0</td>\n",
       "      <td>1.350469e+09</td>\n",
       "      <td>The only thing I found in the filter when I go...</td>\n",
       "      <td>2012-10-17 13:18:51</td>\n",
       "    </tr>\n",
       "    <tr>\n",
       "      <th>1174</th>\n",
       "      <td>Comment</td>\n",
       "      <td>2</td>\n",
       "      <td>c6ar2eu</td>\n",
       "      <td>NaN</td>\n",
       "      <td>0</td>\n",
       "      <td>1.348112e+09</td>\n",
       "      <td>My god you were a mole the whole time !!</td>\n",
       "      <td>2012-09-20 06:36:00</td>\n",
       "    </tr>\n",
       "    <tr>\n",
       "      <th>1175</th>\n",
       "      <td>Comment</td>\n",
       "      <td>1</td>\n",
       "      <td>c5r6v1h</td>\n",
       "      <td>NaN</td>\n",
       "      <td>0</td>\n",
       "      <td>1.344627e+09</td>\n",
       "      <td>While many claim there is a move to a one worl...</td>\n",
       "      <td>2012-08-10 22:25:59</td>\n",
       "    </tr>\n",
       "    <tr>\n",
       "      <th>1176</th>\n",
       "      <td>Comment</td>\n",
       "      <td>2</td>\n",
       "      <td>c5qpa92</td>\n",
       "      <td>NaN</td>\n",
       "      <td>0</td>\n",
       "      <td>1.344545e+09</td>\n",
       "      <td>It's a conspiracy.</td>\n",
       "      <td>2012-08-09 23:47:42</td>\n",
       "    </tr>\n",
       "  </tbody>\n",
       "</table>\n",
       "<p>1177 rows × 8 columns</p>\n",
       "</div>"
      ],
      "text/plain": [
       "                                                  title  score       id  \\\n",
       "0     Jimmy Fallon might be in the closet gay, or Bi...      6   f2r2s5   \n",
       "1     NBA Players who are Part of the Secret Illuminati     11   f1b44j   \n",
       "2     Evidence that Suggests Wuhan Market was Not th...     25   f0tsly   \n",
       "3     US Navy Vet - Worked in Afghanistan, Iraq, Sud...      2   f0dddo   \n",
       "4     New Details Show How Deeply Iowa Caucus App De...      7   ezzad1   \n",
       "...                                                 ...    ...      ...   \n",
       "1172                                            Comment      3  c6nq6do   \n",
       "1173                                            Comment      2  c6nq1wx   \n",
       "1174                                            Comment      2  c6ar2eu   \n",
       "1175                                            Comment      1  c5r6v1h   \n",
       "1176                                            Comment      2  c5qpa92   \n",
       "\n",
       "                                                    url  comms_num  \\\n",
       "0     https://www.reddit.com/r/ConspiracyTheory/comm...         15   \n",
       "1                          https://youtu.be/osrWcunuMbQ          2   \n",
       "2     https://www.reddit.com/r/ConspiracyTheory/comm...         15   \n",
       "3                   https://i.redd.it/hp4x7l90ajf41.jpg          0   \n",
       "4     https://theintercept.com/2020/02/04/iowa-caucu...          2   \n",
       "...                                                 ...        ...   \n",
       "1172                                                NaN          0   \n",
       "1173                                                NaN          0   \n",
       "1174                                                NaN          0   \n",
       "1175                                                NaN          0   \n",
       "1176                                                NaN          0   \n",
       "\n",
       "           created                                               body  \\\n",
       "0     1.581513e+09  Recently me and some of my friends have been n...   \n",
       "1     1.581266e+09                                                NaN   \n",
       "2     1.581179e+09  I have marked a rudimentary chart, each new in...   \n",
       "3     1.581095e+09                                                NaN   \n",
       "4     1.581024e+09                                                NaN   \n",
       "...            ...                                                ...   \n",
       "1172  1.350471e+09  [Yeah, yeah. I know.](http://www.youtube.com/w...   \n",
       "1173  1.350469e+09  The only thing I found in the filter when I go...   \n",
       "1174  1.348112e+09           My god you were a mole the whole time !!   \n",
       "1175  1.344627e+09  While many claim there is a move to a one worl...   \n",
       "1176  1.344545e+09                                 It's a conspiracy.   \n",
       "\n",
       "                timestamp  \n",
       "0     2020-02-12 15:17:50  \n",
       "1     2020-02-09 18:41:12  \n",
       "2     2020-02-08 18:27:15  \n",
       "3     2020-02-07 19:05:26  \n",
       "4     2020-02-06 23:18:15  \n",
       "...                   ...  \n",
       "1172  2012-10-17 13:43:29  \n",
       "1173  2012-10-17 13:18:51  \n",
       "1174  2012-09-20 06:36:00  \n",
       "1175  2012-08-10 22:25:59  \n",
       "1176  2012-08-09 23:47:42  \n",
       "\n",
       "[1177 rows x 8 columns]"
      ]
     },
     "execution_count": 68,
     "metadata": {},
     "output_type": "execute_result"
    }
   ],
   "source": [
    "df"
   ]
  },
  {
   "cell_type": "code",
   "execution_count": 145,
   "metadata": {
    "scrolled": true
   },
   "outputs": [
    {
     "data": {
      "text/plain": [
       "' [https://www.youtube.com/watch?v=Jx9VWZdryjE](https://www.youtube.com/watch?v=Jx9VWZdryjE)'"
      ]
     },
     "execution_count": 145,
     "metadata": {},
     "output_type": "execute_result"
    }
   ],
   "source": [
    "body = df.body\n",
    "body[8]"
   ]
  },
  {
   "cell_type": "code",
   "execution_count": 127,
   "metadata": {},
   "outputs": [
    {
     "name": "stdout",
     "output_type": "stream",
     "text": [
      "hi\n",
      "nan\n",
      "nan\n"
     ]
    }
   ],
   "source": []
  },
  {
   "cell_type": "code",
   "execution_count": 148,
   "metadata": {},
   "outputs": [
    {
     "data": {
      "text/plain": [
       "1177"
      ]
     },
     "execution_count": 148,
     "metadata": {},
     "output_type": "execute_result"
    }
   ],
   "source": [
    "bodyCount = []\n",
    "for i in range(1177):\n",
    "    t = body[i]\n",
    "    if type(t) != str:\n",
    "        if math.isnan(t):\n",
    "            t = 0\n",
    "            j = len(str(t))\n",
    "            bodyCount.append(j)\n",
    "    else:\n",
    "        j = len(str(t))\n",
    "        bodyCount.append(j)\n",
    "len(bodyCount)"
   ]
  },
  {
   "cell_type": "code",
   "execution_count": 149,
   "metadata": {},
   "outputs": [],
   "source": [
    "for i in range(1177):\n",
    "    if bodyCount[i] == 1:\n",
    "        bodyCount[i] = 0\n",
    "    else:\n",
    "        bodyCount[i] = bodyCount[i] - 2"
   ]
  },
  {
   "cell_type": "code",
   "execution_count": 150,
   "metadata": {},
   "outputs": [
    {
     "name": "stdout",
     "output_type": "stream",
     "text": [
      "[479, 0, 3476, 0, 0, 0, 0, 0, 89, 0, 0, 0, 212, 108, 0, 583, 817, 0, 61, 0, 0, 181, 113, 0, 1340, 0, 990, 0, 0, 0, 0, 0, 0, 0, 0, 0, 0, 0, 133, 1561, 0, 0, 580, 0, 0, 0, 2504, 0, 0, 613, 214, 0, 0, 0, 1371, 0, 439, 0, 0, 0, 0, 0, 0, 0, 0, 0, 0, 0, 0, 0, 0, 0, 0, 0, 0, 0, 88, 0, 111, 0, 0, 86, 1237, 0, 948, 0, 0, 0, 0, 0, 0, 0, 420, 0, 0, 1488, 997, 0, 0, 465, 0, 0, 259, 0, 24, 893, 0, 0, 0, 1413, 612, 0, 435, 0, 228, 1033, 1541, 1910, 1205, 735, 0, 540, 339, 0, 0, 2967, 0, 0, 230, 506, 144, 0, 620, 6794, 0, 0, 0, 63, 0, 0, 1914, 206, 273, 76, 0, 0, 3090, 0, 0, 0, 0, 0, 996, 0, 892, 0, 0, 365, 2065, 257, 341, 2280, 919, 0, 0, 0, 204, 609, 0, 0, 0, 210, 21, 583, 71, 122, 654, 1321, 1318, 263, 267, 67, 628, 2141, 298, 0, 0, 0, 818, 0, 0, 103, 1870, 0, 0, 0, 571, 1758, 0, 0, 1012, 0, 1510, 43, 0, 201, 269, 0, 297, 285, 0, 0, 132, 0, 0, 0, 0, 0, 0, 0, 0, 748, 0, 1415, 0, 363, 70, 0, 0, 183, 0, 0, 41, 0, 0, 0, 0, 141, 0, 57, 0, 0, 268, 147, 0, 0, 0, 1262, 675, 0, 48, 304, 370, 0, 115, 0, 945, 1922, 479, 0, 0, 40, 613, 182, 2328, 0, 2040, 518, 77, 0, 0, 0, 0, 1064, 274, 825, 1048, 229, 0, 344, 48, 0, 1631, 119, 313, 0, 127, 1353, 0, 0, 253, 0, 843, 0, 0, 409, 0, 0, 0, 0, 420, 1038, 1507, 241, 0, 0, 38, 122, 444, 4657, 1099, 84, 61, 0, 0, 413, 0, 485, 673, 1274, 266, 976, 0, 0, 0, 0, 1892, 3261, 0, 186, 0, 0, 376, 209, 0, 0, 485, 1162, 0, 0, 0, 0, 0, 505, 0, 0, 0, 0, 0, 846, 0, 1148, 377, 0, 502, 727, 328, 442, 0, 0, 209, 687, 316, 28, 1857, 343, 0, 337, 0, 429, 1595, 54, 37, 45, 0, 508, 55, 272, 100, 0, 0, 0, 0, 0, 0, 0, 0, 3119, 47, 532, 1700, 0, 306, 0, 218, 0, 0, 1745, 0, 0, 1737, 0, 0, 5500, 163, 2031, 6339, 378, 0, 0, 0, 0, 0, 0, 0, 0, 361, 431, 256, 373, 0, 579, 103, 31, 88, 381, 295, 867, 112, 39, 688, 197, 658, 143, 288, 14, 51, 93, 61, 43, 8, 160, 34, 56, 38, 19, 87, 53, 564, 775, 433, 1397, 338, 173, 172, 2, 503, 250, 384, 366, 125, 180, 589, 735, 411, 72, 181, 432, 680, 199, 334, 52, 1099, 404, 50, 463, 669, 383, 80, 117, 1123, 29, 301, 88, 32, 83, 64, 46, 213, 48, 209, 465, 120, 84, 404, 25, 76, 26, 33, 33, 50, 23, 87, 74, 23, 453, 370, 414, 37, 48, 219, 96, 47, 12, 23, 74, 2376, 378, 54, 1981, 102, 652, 402, 439, 131, 35, 190, 21, 88, 21, 278, 8, 10, 303, 126, 125, 204, 482, 509, 89, 244, 58, 14, 152, 114, 52, 14, 107, 302, 560, 34, 10, 48, 24, 46, 70, 53, 19, 72, 0, 67, 266, 80, 42, 93, 61, 213, 77, 211, 66, 19, 61, 28, 61, 16, 76, 803, 234, 1352, 4, 9, 14, 55, 17, 11, 59, 37, 244, 346, 265, 154, 9, 34, 247, 105, 35, 32, 1771, 44, 309, 113, 56, 51, 297, 302, 29, 31, 167, 89, 57, 8, 678, 63, 212, 214, 46, 263, 66, 351, 259, 30, 50, 8, 143, 397, 82, 123, 72, 36, 24, 14, 37, 58, 158, 28, 427, 246, 36, 187, 95, 18, 129, 81, 29, 74, 50, 630, 334, 349, 325, 134, 66, 16, 19, 19, 1003, 19, 506, 74, 127, 22, 576, 45, 57, 31, 232, 153, 119, 63, 18, 65, 39, 99, 2151, 1723, 94, 643, 248, 126, 102, 94, 185, 39, 102, 599, 221, 288, 38, 62, 157, 128, 385, 105, 37, 70, 456, 46, 268, 2, 90, 629, 252, 227, 80, 316, 108, 146, 113, 158, 78, 28, 9, 36, 17, 286, 331, 297, 57, 262, 169, 318, 2, 7, 161, 30, 70, 54, 654, 53, 38, 94, 113, 34, 285, 219, 121, 180, 15, 19, 11, 2657, 329, 78, 41, 9, 11, 153, 129, 87, 395, 125, 197, 134, 41, 236, 144, 6, 71, 78, 70, 61, 100, 47, 170, 104, 12, 120, 38, 24, 24, 170, 449, 263, 301, 263, 4398, 18, 196, 118, 673, 12, 544, 9, 222, 145, 274, 54, 64, 374, 163, 235, 493, 69, 234, 52, 137, 54, 159, 315, 17, 43, 47, 267, 751, 24, 1173, 206, 24, 189, 288, 263, 441, 166, 184, 237, 23, 50, 645, 401, 445, 471, 62, 319, 115, 239, 45, 146, 49, 58, 1032, 105, 121, 92, 68, 406, 360, 138, 104, 96, 226, 172, 248, 521, 278, 18, 344, 413, 6, 582, 102, 13, 7, 22, 119, 169, 24, 17, 50, 5, 24, 118, 397, 211, 49, 130, 20, 25, 38, 118, 253, 38, 0, 9, 71, 116, 81, 1, 288, 10, 229, 311, 104, 10, 25, 176, 18, 14, 7, 23, 35, 40, 22, 79, 112, 52, 78, 56, 533, 122, 63, 35, 92, 248, 18, 58, 114, 97, 42, 82, 530, 154, 330, 346, 204, 8, 2059, 16, 30, 73, 20, 1, 13, 5, 64, 268, 142, 123, 61, 229, 174, 467, 257, 568, 374, 368, 19, 1112, 64, 50, 324, 191, 661, 188, 78, 368, 63, 50, 77, 15, 120, 42, 27, 100, 163, 45, 60, 91, 67, 15, 483, 496, 167, 730, 1481, 417, 903, 94, 147, 186, 304, 617, 27, 390, 499, 24, 97, 19, 1372, 1037, 42, 119, 82, 34, 32, 1000, 776, 103, 39, 17, 72, 356, 69, 17, 297, 47, 50, 52, 72, 9, 38, 22, 125, 166, 338, 69, 797, 44, 3886, 88, 133, 160, 191, 22, 133, 345, 40, 189, 283, 13, 179, 67, 67, 6, 125, 1500, 205, 7, 25, 35, 185, 0, 310, 104, 37, 30, 95, 177, 92, 77, 1132, 62, 27, 102, 401, 281, 136, 63, 1148, 22, 81, 58, 100, 20, 80, 7, 67, 47, 136, 31, 415, 8, 271, 69, 37, 48, 40, 84, 76, 170, 54, 82, 21, 30, 27, 36, 40, 41, 64, 136, 39, 339, 135, 345, 102, 27, 43, 15, 176, 91, 689, 26, 130, 272, 36, 484, 54, 355, 506, 6, 6, 40, 2, 40, 40, 40, 66, 133, 71, 73, 61, 47, 36, 28, 275, 260, 5, 47, 71, 52, 28, 23, 92, 92, 364, 1767, 247, 1744, 50, 189, 113, 126, 20, 36, 86, 95, 1345, 136, 286, 126, 240, 324, 1125, 695, 420, 128, 1390, 55, 348, 153, 472, 93, 757, 144, 248, 151, 138, 324, 115, 70, 71, 323, 266, 358, 23, 128, 17, 211, 4, 579, 119, 133, 17, 63, 124, 38, 163, 16]\n"
     ]
    }
   ],
   "source": [
    "print(bodyCount)"
   ]
  },
  {
   "cell_type": "code",
   "execution_count": 154,
   "metadata": {},
   "outputs": [
    {
     "data": {
      "text/plain": [
       "1177"
      ]
     },
     "execution_count": 154,
     "metadata": {},
     "output_type": "execute_result"
    }
   ],
   "source": [
    "bodyCount = np.array(bodyCount)\n",
    "bodyCount.size"
   ]
  },
  {
   "cell_type": "code",
   "execution_count": 156,
   "metadata": {},
   "outputs": [
    {
     "data": {
      "text/plain": [
       "1177"
      ]
     },
     "execution_count": 156,
     "metadata": {},
     "output_type": "execute_result"
    }
   ],
   "source": [
    "score = df.score.copy()\n",
    "score\n",
    "score = score.to_numpy()\n",
    "score.size"
   ]
  },
  {
   "cell_type": "code",
   "execution_count": 158,
   "metadata": {},
   "outputs": [
    {
     "data": {
      "image/png": "[encoded data removed]",
      "text/plain": [
       "<Figure size 576x396 with 1 Axes>"
      ]
     },
     "metadata": {},
     "output_type": "display_data"
    }
   ],
   "source": [
    "X = bodyCount\n",
    "Y = score\n",
    "\n",
    "plt.scatter(X, Y)\n",
    "plt.show();"
   ]
  },
  {
   "cell_type": "code",
   "execution_count": 159,
   "metadata": {},
   "outputs": [],
   "source": [
    "denominator = X.dot(X) - X.mean() * X.sum()\n",
    "a = (X.dot(Y) - Y.mean() * X.sum()) / denominator\n",
    "b = (Y.mean() * X.dot(X) - X.mean() * X.dot(Y)) / denominator"
   ]
  },
  {
   "cell_type": "code",
   "execution_count": 160,
   "metadata": {},
   "outputs": [
    {
     "name": "stdout",
     "output_type": "stream",
     "text": [
      "[1.7966408  1.65860995 2.66027014 ... 1.6695602  1.70558078 1.66322058]\n"
     ]
    }
   ],
   "source": [
    "# calculate predicted Y\n",
    "Yhat = a * X + b\n",
    "print(Yhat)"
   ]
  },
  {
   "cell_type": "code",
   "execution_count": 161,
   "metadata": {},
   "outputs": [
    {
     "data": {
      "image/png": "[encoded data removed]",
      "text/plain": [
       "<Figure size 576x396 with 1 Axes>"
      ]
     },
     "metadata": {},
     "output_type": "display_data"
    }
   ],
   "source": [
    "#plot it all\n",
    "plt.scatter(X, Y)\n",
    "plt.plot(X, Yhat) # line of best fit\n",
    "plt.show();"
   ]
  },
  {
   "cell_type": "code",
   "execution_count": 162,
   "metadata": {},
   "outputs": [
    {
     "name": "stdout",
     "output_type": "stream",
     "text": [
      "R-Squared is 0.008113482791322402\n"
     ]
    }
   ],
   "source": [
    "#calculate r-squared\n",
    "d1 = Y - Yhat\n",
    "d2 = Y - Y.mean()\n",
    "r2 = 1 - d1.dot(d1) / d2.dot(d2)\n",
    "print(\"R-Squared is\", r2)"
   ]
  },
  {
   "cell_type": "markdown",
   "metadata": {},
   "source": [
    "## Try to see if there is a correlation between title length and score."
   ]
  },
  {
   "cell_type": "code",
   "execution_count": 163,
   "metadata": {},
   "outputs": [
    {
     "data": {
      "text/html": [
       "<div>\n",
       "<style scoped>\n",
       "    .dataframe tbody tr th:only-of-type {\n",
       "        vertical-align: middle;\n",
       "    }\n",
       "\n",
       "    .dataframe tbody tr th {\n",
       "        vertical-align: top;\n",
       "    }\n",
       "\n",
       "    .dataframe thead th {\n",
       "        text-align: right;\n",
       "    }\n",
       "</style>\n",
       "<table border=\"1\" class=\"dataframe\">\n",
       "  <thead>\n",
       "    <tr style=\"text-align: right;\">\n",
       "      <th></th>\n",
       "      <th>title</th>\n",
       "      <th>score</th>\n",
       "      <th>id</th>\n",
       "      <th>url</th>\n",
       "      <th>comms_num</th>\n",
       "      <th>created</th>\n",
       "      <th>body</th>\n",
       "      <th>timestamp</th>\n",
       "    </tr>\n",
       "  </thead>\n",
       "  <tbody>\n",
       "    <tr>\n",
       "      <th>0</th>\n",
       "      <td>Jimmy Fallon might be in the closet gay, or Bi...</td>\n",
       "      <td>6</td>\n",
       "      <td>f2r2s5</td>\n",
       "      <td>https://www.reddit.com/r/ConspiracyTheory/comm...</td>\n",
       "      <td>15</td>\n",
       "      <td>1.581513e+09</td>\n",
       "      <td>Recently me and some of my friends have been n...</td>\n",
       "      <td>2020-02-12 15:17:50</td>\n",
       "    </tr>\n",
       "    <tr>\n",
       "      <th>1</th>\n",
       "      <td>NBA Players who are Part of the Secret Illuminati</td>\n",
       "      <td>11</td>\n",
       "      <td>f1b44j</td>\n",
       "      <td>https://youtu.be/osrWcunuMbQ</td>\n",
       "      <td>2</td>\n",
       "      <td>1.581266e+09</td>\n",
       "      <td>NaN</td>\n",
       "      <td>2020-02-09 18:41:12</td>\n",
       "    </tr>\n",
       "    <tr>\n",
       "      <th>2</th>\n",
       "      <td>Evidence that Suggests Wuhan Market was Not th...</td>\n",
       "      <td>25</td>\n",
       "      <td>f0tsly</td>\n",
       "      <td>https://www.reddit.com/r/ConspiracyTheory/comm...</td>\n",
       "      <td>15</td>\n",
       "      <td>1.581179e+09</td>\n",
       "      <td>I have marked a rudimentary chart, each new in...</td>\n",
       "      <td>2020-02-08 18:27:15</td>\n",
       "    </tr>\n",
       "    <tr>\n",
       "      <th>3</th>\n",
       "      <td>US Navy Vet - Worked in Afghanistan, Iraq, Sud...</td>\n",
       "      <td>2</td>\n",
       "      <td>f0dddo</td>\n",
       "      <td>https://i.redd.it/hp4x7l90ajf41.jpg</td>\n",
       "      <td>0</td>\n",
       "      <td>1.581095e+09</td>\n",
       "      <td>NaN</td>\n",
       "      <td>2020-02-07 19:05:26</td>\n",
       "    </tr>\n",
       "    <tr>\n",
       "      <th>4</th>\n",
       "      <td>New Details Show How Deeply Iowa Caucus App De...</td>\n",
       "      <td>7</td>\n",
       "      <td>ezzad1</td>\n",
       "      <td>https://theintercept.com/2020/02/04/iowa-caucu...</td>\n",
       "      <td>2</td>\n",
       "      <td>1.581024e+09</td>\n",
       "      <td>NaN</td>\n",
       "      <td>2020-02-06 23:18:15</td>\n",
       "    </tr>\n",
       "    <tr>\n",
       "      <th>...</th>\n",
       "      <td>...</td>\n",
       "      <td>...</td>\n",
       "      <td>...</td>\n",
       "      <td>...</td>\n",
       "      <td>...</td>\n",
       "      <td>...</td>\n",
       "      <td>...</td>\n",
       "      <td>...</td>\n",
       "    </tr>\n",
       "    <tr>\n",
       "      <th>417</th>\n",
       "      <td>Theory on Romney winning. (not because I would...</td>\n",
       "      <td>0</td>\n",
       "      <td>12goxg</td>\n",
       "      <td>https://www.reddit.com/r/ConspiracyTheory/comm...</td>\n",
       "      <td>2</td>\n",
       "      <td>1.351787e+09</td>\n",
       "      <td>* Romney lies to Ohio voters about Jeep closin...</td>\n",
       "      <td>2012-11-01 18:18:42</td>\n",
       "    </tr>\n",
       "    <tr>\n",
       "      <th>418</th>\n",
       "      <td>Facebook Conspiracy Theory\\n\\n</td>\n",
       "      <td>0</td>\n",
       "      <td>128gro</td>\n",
       "      <td>https://www.reddit.com/r/ConspiracyTheory/comm...</td>\n",
       "      <td>0</td>\n",
       "      <td>1.351456e+09</td>\n",
       "      <td>Facebook thought that I had a virus. Being con...</td>\n",
       "      <td>2012-10-28 22:30:34</td>\n",
       "    </tr>\n",
       "    <tr>\n",
       "      <th>419</th>\n",
       "      <td>AutoModerator is set to approve everything.</td>\n",
       "      <td>0</td>\n",
       "      <td>11n4wp</td>\n",
       "      <td>https://www.reddit.com/r/ConspiracyTheory/comm...</td>\n",
       "      <td>0</td>\n",
       "      <td>1.350498e+09</td>\n",
       "      <td>If we want it to do other things (e.g., remove...</td>\n",
       "      <td>2012-10-17 21:26:16</td>\n",
       "    </tr>\n",
       "    <tr>\n",
       "      <th>420</th>\n",
       "      <td>Is a one world government possible or stable?</td>\n",
       "      <td>0</td>\n",
       "      <td>y0fkg</td>\n",
       "      <td>http://alexk2009.hubpages.com/hub/Could-we-eve...</td>\n",
       "      <td>3</td>\n",
       "      <td>1.344627e+09</td>\n",
       "      <td>NaN</td>\n",
       "      <td>2012-08-10 22:24:46</td>\n",
       "    </tr>\n",
       "    <tr>\n",
       "      <th>421</th>\n",
       "      <td>Oh, the drama and controversy. Well, let's get...</td>\n",
       "      <td>1</td>\n",
       "      <td>11mgcd</td>\n",
       "      <td>https://www.reddit.com/r/ConspiracyTheory/comm...</td>\n",
       "      <td>8</td>\n",
       "      <td>1.350469e+09</td>\n",
       "      <td>This account got shadowbanned, so I never went...</td>\n",
       "      <td>2012-10-17 13:08:36</td>\n",
       "    </tr>\n",
       "  </tbody>\n",
       "</table>\n",
       "<p>422 rows × 8 columns</p>\n",
       "</div>"
      ],
      "text/plain": [
       "                                                 title  score      id  \\\n",
       "0    Jimmy Fallon might be in the closet gay, or Bi...      6  f2r2s5   \n",
       "1    NBA Players who are Part of the Secret Illuminati     11  f1b44j   \n",
       "2    Evidence that Suggests Wuhan Market was Not th...     25  f0tsly   \n",
       "3    US Navy Vet - Worked in Afghanistan, Iraq, Sud...      2  f0dddo   \n",
       "4    New Details Show How Deeply Iowa Caucus App De...      7  ezzad1   \n",
       "..                                                 ...    ...     ...   \n",
       "417  Theory on Romney winning. (not because I would...      0  12goxg   \n",
       "418                     Facebook Conspiracy Theory\\n\\n      0  128gro   \n",
       "419        AutoModerator is set to approve everything.      0  11n4wp   \n",
       "420      Is a one world government possible or stable?      0   y0fkg   \n",
       "421  Oh, the drama and controversy. Well, let's get...      1  11mgcd   \n",
       "\n",
       "                                                   url  comms_num  \\\n",
       "0    https://www.reddit.com/r/ConspiracyTheory/comm...         15   \n",
       "1                         https://youtu.be/osrWcunuMbQ          2   \n",
       "2    https://www.reddit.com/r/ConspiracyTheory/comm...         15   \n",
       "3                  https://i.redd.it/hp4x7l90ajf41.jpg          0   \n",
       "4    https://theintercept.com/2020/02/04/iowa-caucu...          2   \n",
       "..                                                 ...        ...   \n",
       "417  https://www.reddit.com/r/ConspiracyTheory/comm...          2   \n",
       "418  https://www.reddit.com/r/ConspiracyTheory/comm...          0   \n",
       "419  https://www.reddit.com/r/ConspiracyTheory/comm...          0   \n",
       "420  http://alexk2009.hubpages.com/hub/Could-we-eve...          3   \n",
       "421  https://www.reddit.com/r/ConspiracyTheory/comm...          8   \n",
       "\n",
       "          created                                               body  \\\n",
       "0    1.581513e+09  Recently me and some of my friends have been n...   \n",
       "1    1.581266e+09                                                NaN   \n",
       "2    1.581179e+09  I have marked a rudimentary chart, each new in...   \n",
       "3    1.581095e+09                                                NaN   \n",
       "4    1.581024e+09                                                NaN   \n",
       "..            ...                                                ...   \n",
       "417  1.351787e+09  * Romney lies to Ohio voters about Jeep closin...   \n",
       "418  1.351456e+09  Facebook thought that I had a virus. Being con...   \n",
       "419  1.350498e+09  If we want it to do other things (e.g., remove...   \n",
       "420  1.344627e+09                                                NaN   \n",
       "421  1.350469e+09  This account got shadowbanned, so I never went...   \n",
       "\n",
       "               timestamp  \n",
       "0    2020-02-12 15:17:50  \n",
       "1    2020-02-09 18:41:12  \n",
       "2    2020-02-08 18:27:15  \n",
       "3    2020-02-07 19:05:26  \n",
       "4    2020-02-06 23:18:15  \n",
       "..                   ...  \n",
       "417  2012-11-01 18:18:42  \n",
       "418  2012-10-28 22:30:34  \n",
       "419  2012-10-17 21:26:16  \n",
       "420  2012-08-10 22:24:46  \n",
       "421  2012-10-17 13:08:36  \n",
       "\n",
       "[422 rows x 8 columns]"
      ]
     },
     "execution_count": 163,
     "metadata": {},
     "output_type": "execute_result"
    }
   ],
   "source": [
    "#get a dataframe where the title is not Comments\n",
    "no_com = df.loc[df['title'] != 'Comment']\n",
    "no_com"
   ]
  },
  {
   "cell_type": "code",
   "execution_count": 172,
   "metadata": {},
   "outputs": [
    {
     "data": {
      "text/plain": [
       "0      Jimmy Fallon might be in the closet gay, or Bi...\n",
       "1      NBA Players who are Part of the Secret Illuminati\n",
       "2      Evidence that Suggests Wuhan Market was Not th...\n",
       "3      US Navy Vet - Worked in Afghanistan, Iraq, Sud...\n",
       "4      New Details Show How Deeply Iowa Caucus App De...\n",
       "                             ...                        \n",
       "417    Theory on Romney winning. (not because I would...\n",
       "418                       Facebook Conspiracy Theory\\n\\n\n",
       "419          AutoModerator is set to approve everything.\n",
       "420        Is a one world government possible or stable?\n",
       "421    Oh, the drama and controversy. Well, let's get...\n",
       "Name: title, Length: 422, dtype: object"
      ]
     },
     "execution_count": 172,
     "metadata": {},
     "output_type": "execute_result"
    }
   ],
   "source": [
    "titles = no_com.title\n",
    "score = no_com.score\n",
    "titles"
   ]
  },
  {
   "cell_type": "code",
   "execution_count": 169,
   "metadata": {},
   "outputs": [
    {
     "data": {
      "text/plain": [
       "422"
      ]
     },
     "execution_count": 169,
     "metadata": {},
     "output_type": "execute_result"
    }
   ],
   "source": [
    "titleCount = []\n",
    "for i in range(422):\n",
    "    t = titles[i]\n",
    "    if type(t) != str:\n",
    "        if math.isnan(t):\n",
    "            t = 0\n",
    "            j = len(str(t))\n",
    "            titleCount.append(j)\n",
    "    else:\n",
    "        j = len(str(t))\n",
    "        titleCount.append(j)\n",
    "len(titleCount)"
   ]
  },
  {
   "cell_type": "code",
   "execution_count": 170,
   "metadata": {},
   "outputs": [
    {
     "name": "stdout",
     "output_type": "stream",
     "text": [
      "[52, 49, 140, 155, 94, 80, 67, 236, 12, 43, 34, 41, 18, 35, 157, 30, 27, 63, 38, 69, 35, 84, 35, 49, 148, 69, 66, 53, 163, 60, 63, 96, 84, 193, 84, 40, 69, 31, 22, 87, 49, 92, 118, 62, 71, 103, 60, 95, 71, 55, 36, 40, 73, 107, 19, 63, 57, 81, 80, 79, 86, 87, 107, 49, 89, 140, 163, 50, 63, 76, 82, 48, 73, 72, 53, 48, 36, 55, 16, 39, 36, 9, 159, 108, 33, 42, 24, 67, 46, 82, 93, 47, 18, 107, 54, 68, 23, 49, 42, 37, 33, 121, 66, 58, 94, 46, 32, 101, 177, 200, 43, 44, 48, 18, 21, 48, 54, 34, 32, 27, 120, 57, 91, 59, 41, 47, 18, 17, 29, 126, 61, 46, 51, 17, 40, 67, 75, 17, 61, 38, 5, 71, 28, 6, 61, 66, 57, 201, 200, 81, 166, 167, 23, 54, 16, 115, 113, 53, 68, 32, 88, 24, 77, 87, 41, 83, 71, 32, 163, 38, 136, 64, 77, 12, 44, 57, 98, 59, 34, 19, 161, 116, 41, 13, 20, 107, 33, 22, 32, 84, 33, 1, 28, 36, 53, 88, 37, 26, 75, 59, 22, 30, 50, 51, 37, 38, 46, 58, 70, 59, 21, 95, 27, 10, 127, 60, 40, 56, 46, 62, 26, 63, 50, 44, 50, 27, 90, 54, 35, 6, 32, 84, 112, 112, 75, 25, 30, 26, 106, 14, 83, 28, 30, 17, 101, 118, 50, 79, 29, 88, 16, 171, 18, 185, 14, 29, 20, 30, 17, 49, 48, 16, 24, 20, 50, 32, 122, 88, 115, 87, 202, 85, 86, 35, 92, 52, 61, 19, 38, 49, 25, 39, 30, 43, 43, 30, 12, 25, 278, 89, 17, 37, 33, 46, 19, 76, 31, 41, 60, 11, 96, 29, 61, 54, 25, 60, 29, 31, 56, 17, 23, 34, 49, 129, 7, 108, 64, 87, 27, 84, 26, 9, 48, 35, 19, 74, 114, 105, 60, 172, 56, 137, 43, 40, 77, 44, 34, 56, 37, 68, 52, 25, 162, 48, 144, 113, 139, 95, 93, 62, 80, 55, 97, 68, 24, 57, 46, 13, 75, 44, 93, 38, 36, 76, 74, 40, 11, 92, 66, 34, 25, 52, 46, 76, 137, 171, 27, 31, 19, 30, 31, 24, 53, 127, 45, 126, 206, 22, 48, 19, 59, 61, 64, 39, 58, 69, 34, 35, 109, 82, 89, 61, 16, 143, 26, 95, 138, 77, 71, 67, 57, 65, 55, 52, 98, 102, 31, 102, 28, 43, 45, 172]\n"
     ]
    }
   ],
   "source": [
    "print(titleCount)"
   ]
  },
  {
   "cell_type": "code",
   "execution_count": 174,
   "metadata": {
    "scrolled": true
   },
   "outputs": [
    {
     "ename": "AttributeError",
     "evalue": "'numpy.ndarray' object has no attribute 'to_numpy'",
     "output_type": "error",
     "traceback": [
      "\u001b[1;31m---------------------------------------------------------------------------\u001b[0m",
      "\u001b[1;31mAttributeError\u001b[0m                            Traceback (most recent call last)",
      "\u001b[1;32m<ipython-input-174-4ccf30539371>\u001b[0m in \u001b[0;36m<module>\u001b[1;34m\u001b[0m\n\u001b[0;32m      1\u001b[0m \u001b[0mtitleCount\u001b[0m \u001b[1;33m=\u001b[0m \u001b[0mnp\u001b[0m\u001b[1;33m.\u001b[0m\u001b[0marray\u001b[0m\u001b[1;33m(\u001b[0m\u001b[0mtitleCount\u001b[0m\u001b[1;33m)\u001b[0m\u001b[1;33m\u001b[0m\u001b[1;33m\u001b[0m\u001b[0m\n\u001b[1;32m----> 2\u001b[1;33m \u001b[0mscore\u001b[0m \u001b[1;33m=\u001b[0m \u001b[0mscore\u001b[0m\u001b[1;33m.\u001b[0m\u001b[0mto_numpy\u001b[0m\u001b[1;33m(\u001b[0m\u001b[1;33m)\u001b[0m\u001b[1;33m\u001b[0m\u001b[1;33m\u001b[0m\u001b[0m\n\u001b[0m\u001b[0;32m      3\u001b[0m \u001b[0mtitleCount\u001b[0m\u001b[1;33m.\u001b[0m\u001b[0msize\u001b[0m\u001b[1;33m\u001b[0m\u001b[1;33m\u001b[0m\u001b[0m\n",
      "\u001b[1;31mAttributeError\u001b[0m: 'numpy.ndarray' object has no attribute 'to_numpy'"
     ]
    }
   ],
   "source": [
    "titleCount = np.array(titleCount)\n",
    "score = score.to_numpy()"
   ]
  },
  {
   "cell_type": "code",
   "execution_count": 175,
   "metadata": {},
   "outputs": [
    {
     "data": {
      "text/plain": [
       "422"
      ]
     },
     "execution_count": 175,
     "metadata": {},
     "output_type": "execute_result"
    }
   ],
   "source": [
    "titleCount.size"
   ]
  },
  {
   "cell_type": "code",
   "execution_count": 181,
   "metadata": {},
   "outputs": [
    {
     "data": {
      "image/png": "[encoded data removed]",
      "text/plain": [
       "<Figure size 576x396 with 1 Axes>"
      ]
     },
     "metadata": {},
     "output_type": "display_data"
    }
   ],
   "source": [
    "plt.hist(titleCount, bins = 100)\n",
    "plt.title('titleCount')\n",
    "plt.show();"
   ]
  },
  {
   "cell_type": "code",
   "execution_count": 177,
   "metadata": {},
   "outputs": [
    {
     "data": {
      "image/png": "[encoded data removed]",
      "text/plain": [
       "<Figure size 576x396 with 1 Axes>"
      ]
     },
     "metadata": {},
     "output_type": "display_data"
    }
   ],
   "source": [
    "X = titleCount\n",
    "Y = score\n",
    "\n",
    "#basic scatterplot\n",
    "plt.scatter(X,Y)\n",
    "plt.xlabel(\"Title Count\", fontsize = 15)\n",
    "plt.ylabel(\"Score\", fontsize = 15)\n",
    "plt.title(\"Title Length to Score\", fontsize = 20)\n",
    "plt.show();"
   ]
  },
  {
   "cell_type": "code",
   "execution_count": 178,
   "metadata": {},
   "outputs": [
    {
     "name": "stdout",
     "output_type": "stream",
     "text": [
      "[2.37232182 2.35434287 2.89970445 2.98959922 2.62402717 2.54012539\n",
      " 2.46221659 3.47503097 2.13260244 2.31838496 2.2644481  2.30639899\n",
      " 2.16856035 2.27044108 3.00158519 2.24047616 2.22249721 2.43824465\n",
      " 2.28842004 2.47420256 2.27044108 2.56409732 2.27044108 2.35434287\n",
      " 2.94764833 2.47420256 2.4562236  2.3783148  3.0375431  2.4202657\n",
      " 2.43824465 2.63601314 2.56409732 3.21733263 2.56409732 2.30040601\n",
      " 2.47420256 2.24646914 2.19253228 2.58207628 2.35434287 2.6120412\n",
      " 2.7678588  2.43225166 2.48618852 2.67796403 2.4202657  2.63002015\n",
      " 2.48618852 2.39030077 2.27643407 2.30040601 2.49817449 2.70193597\n",
      " 2.17455333 2.43824465 2.40228674 2.54611837 2.54012539 2.5341324\n",
      " 2.57608329 2.58207628 2.70193597 2.35434287 2.59406225 2.89970445\n",
      " 3.0375431  2.36033585 2.43824465 2.51615345 2.55211135 2.34834988\n",
      " 2.49817449 2.49218151 2.3783148  2.34834988 2.27643407 2.39030077\n",
      " 2.15657438 2.29441302 2.27643407 2.11462349 3.01357116 2.70792895\n",
      " 2.25845511 2.31239197 2.20451825 2.46221659 2.33636391 2.55211135\n",
      " 2.61803418 2.3423569  2.16856035 2.70193597 2.38430779 2.46820957\n",
      " 2.19852527 2.35434287 2.31239197 2.28242705 2.25845511 2.78583775\n",
      " 2.4562236  2.40827973 2.62402717 2.33636391 2.25246213 2.66597806\n",
      " 3.12144488 3.25928352 2.31838496 2.32437794 2.34834988 2.16856035\n",
      " 2.1865393  2.34834988 2.38430779 2.2644481  2.25246213 2.22249721\n",
      " 2.77984476 2.40228674 2.60604821 2.41427271 2.30639899 2.3423569\n",
      " 2.16856035 2.16256736 2.23448318 2.81580267 2.42625868 2.33636391\n",
      " 2.36632883 2.16256736 2.30040601 2.46221659 2.51016046 2.16256736\n",
      " 2.42625868 2.28842004 2.09065155 2.48618852 2.22849019 2.09664453\n",
      " 2.42625868 2.4562236  2.40228674 3.26527651 3.25928352 2.54611837\n",
      " 3.05552205 3.06151504 2.19852527 2.38430779 2.15657438 2.74987984\n",
      " 2.73789387 2.3783148  2.46820957 2.25246213 2.58806926 2.20451825\n",
      " 2.52214643 2.58207628 2.30639899 2.55810434 2.48618852 2.25246213\n",
      " 3.0375431  2.28842004 2.87573252 2.44423763 2.52214643 2.13260244\n",
      " 2.32437794 2.40228674 2.64799911 2.41427271 2.2644481  2.17455333\n",
      " 3.02555713 2.75587283 2.30639899 2.13859542 2.18054632 2.70193597\n",
      " 2.25845511 2.19253228 2.25246213 2.56409732 2.25845511 2.06667961\n",
      " 2.22849019 2.27643407 2.3783148  2.58806926 2.28242705 2.21650422\n",
      " 2.51016046 2.41427271 2.19253228 2.24047616 2.36033585 2.36632883\n",
      " 2.28242705 2.28842004 2.33636391 2.40827973 2.48019554 2.41427271\n",
      " 2.1865393  2.63002015 2.22249721 2.12061647 2.82179566 2.4202657\n",
      " 2.30040601 2.39629376 2.33636391 2.43225166 2.21650422 2.43824465\n",
      " 2.36033585 2.32437794 2.36033585 2.22249721 2.60005523 2.38430779\n",
      " 2.27044108 2.09664453 2.25246213 2.56409732 2.73190089 2.73190089\n",
      " 2.51016046 2.21051124 2.24047616 2.21650422 2.69594298 2.14458841\n",
      " 2.55810434 2.22849019 2.24047616 2.16256736 2.66597806 2.7678588\n",
      " 2.36033585 2.5341324  2.23448318 2.58806926 2.15657438 3.08548697\n",
      " 2.16856035 3.16938876 2.14458841 2.23448318 2.18054632 2.24047616\n",
      " 2.16256736 2.35434287 2.34834988 2.15657438 2.20451825 2.18054632\n",
      " 2.36033585 2.25246213 2.79183073 2.58806926 2.74987984 2.58207628\n",
      " 3.27126949 2.57009031 2.57608329 2.27044108 2.6120412  2.37232182\n",
      " 2.42625868 2.17455333 2.28842004 2.35434287 2.21051124 2.29441302\n",
      " 2.24047616 2.31838496 2.31838496 2.24047616 2.13260244 2.21051124\n",
      " 3.72673631 2.59406225 2.16256736 2.28242705 2.25845511 2.33636391\n",
      " 2.17455333 2.51615345 2.24646914 2.30639899 2.4202657  2.12660945\n",
      " 2.63601314 2.23448318 2.42625868 2.38430779 2.21051124 2.4202657\n",
      " 2.23448318 2.24646914 2.39629376 2.16256736 2.19852527 2.2644481\n",
      " 2.35434287 2.83378163 2.10263752 2.70792895 2.44423763 2.58207628\n",
      " 2.22249721 2.56409732 2.21650422 2.11462349 2.34834988 2.27044108\n",
      " 2.17455333 2.50416748 2.74388686 2.68995    2.4202657  3.09147996\n",
      " 2.39629376 2.8817255  2.31838496 2.30040601 2.52214643 2.32437794\n",
      " 2.2644481  2.39629376 2.28242705 2.46820957 2.37232182 2.21051124\n",
      " 3.03155011 2.34834988 2.92367639 2.73789387 2.89371147 2.63002015\n",
      " 2.61803418 2.43225166 2.54012539 2.39030077 2.64200612 2.46820957\n",
      " 2.20451825 2.40228674 2.33636391 2.13859542 2.51016046 2.32437794\n",
      " 2.61803418 2.28842004 2.27643407 2.51615345 2.50416748 2.30040601\n",
      " 2.12660945 2.6120412  2.4562236  2.2644481  2.21051124 2.37232182\n",
      " 2.33636391 2.51615345 2.8817255  3.08548697 2.22249721 2.24646914\n",
      " 2.17455333 2.24047616 2.24646914 2.20451825 2.3783148  2.82179566\n",
      " 2.33037093 2.81580267 3.29524143 2.19253228 2.34834988 2.17455333\n",
      " 2.41427271 2.42625868 2.44423763 2.29441302 2.40827973 2.47420256\n",
      " 2.2644481  2.27044108 2.71392194 2.55211135 2.59406225 2.42625868\n",
      " 2.15657438 2.91768341 2.21650422 2.63002015 2.88771849 2.52214643\n",
      " 2.48618852 2.46221659 2.40228674 2.45023062 2.39030077 2.37232182\n",
      " 2.64799911 2.67197104 2.24646914 2.67197104 2.22849019 2.31838496\n",
      " 2.33037093 3.09147996]\n"
     ]
    }
   ],
   "source": [
    "denominator = X.dot(X) - X.mean() * X.sum()\n",
    "a = (X.dot(Y) - Y.mean() * X.sum()) / denominator\n",
    "b = (Y.mean() * X.dot(X) - X.mean() * X.dot(Y)) / denominator\n",
    "\n",
    "# calculate predicted Y\n",
    "Yhat = a * X + b\n",
    "print(Yhat)\n",
    "\n"
   ]
  },
  {
   "cell_type": "code",
   "execution_count": 179,
   "metadata": {},
   "outputs": [
    {
     "data": {
      "image/png": "[encoded data removed]",
      "text/plain": [
       "<Figure size 576x396 with 1 Axes>"
      ]
     },
     "metadata": {},
     "output_type": "display_data"
    }
   ],
   "source": [
    "#plot it all\n",
    "plt.scatter(X, Y)\n",
    "plt.plot(X, Yhat) # line of best fit\n",
    "plt.show();"
   ]
  },
  {
   "cell_type": "code",
   "execution_count": 180,
   "metadata": {},
   "outputs": [
    {
     "name": "stdout",
     "output_type": "stream",
     "text": [
      "R-Squared is 0.009907590069243577\n"
     ]
    }
   ],
   "source": [
    "#calculate r-squared\n",
    "d1 = Y - Yhat\n",
    "d2 = Y - Y.mean()\n",
    "r2 = 1 - d1.dot(d1) / d2.dot(d2)\n",
    "print(\"R-Squared is\", r2)"
   ]
  },
  {
   "cell_type": "code",
   "execution_count": null,
   "metadata": {},
   "outputs": [],
   "source": []
  }
 ],
 "metadata": {
  "kernelspec": {
   "display_name": "Python 3",
   "language": "python",
   "name": "python3"
  },
  "language_info": {
   "codemirror_mode": {
    "name": "ipython",
    "version": 3
   },
   "file_extension": ".py",
   "mimetype": "text/x-python",
   "name": "python",
   "nbconvert_exporter": "python",
   "pygments_lexer": "ipython3",
   "version": "3.8.3"
  }
 },
 "nbformat": 4,
 "nbformat_minor": 4
}
