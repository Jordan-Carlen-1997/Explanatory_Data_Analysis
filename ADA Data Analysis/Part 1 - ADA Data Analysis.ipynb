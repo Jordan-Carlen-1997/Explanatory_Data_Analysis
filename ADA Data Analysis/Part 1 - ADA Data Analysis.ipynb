{
 "cells": [
  {
   "cell_type": "markdown",
   "metadata": {},
   "source": [
    "Performing analysis on ADA-USD data, date range of 2017-10-01 to 2021-09-04."
   ]
  },
  {
   "cell_type": "code",
   "execution_count": 42,
   "metadata": {},
   "outputs": [],
   "source": [
    "#import libraries\n",
    "import pandas as pd\n",
    "import matplotlib.pyplot as plt\n",
    "import numpy as np\n",
    "plt.style.use(\"seaborn\")"
   ]
  },
  {
   "cell_type": "code",
   "execution_count": 28,
   "metadata": {},
   "outputs": [],
   "source": [
    "#read in the dataframe\n",
    "ada = pd.read_csv(\"ADA-USD.csv\", parse_dates = [\"Date\"], index_col = \"Date\")"
   ]
  },
  {
   "cell_type": "markdown",
   "metadata": {},
   "source": [
    "Inspecting the Data"
   ]
  },
  {
   "cell_type": "code",
   "execution_count": 29,
   "metadata": {},
   "outputs": [
    {
     "data": {
      "text/html": [
       "<div>\n",
       "<style scoped>\n",
       "    .dataframe tbody tr th:only-of-type {\n",
       "        vertical-align: middle;\n",
       "    }\n",
       "\n",
       "    .dataframe tbody tr th {\n",
       "        vertical-align: top;\n",
       "    }\n",
       "\n",
       "    .dataframe thead th {\n",
       "        text-align: right;\n",
       "    }\n",
       "</style>\n",
       "<table border=\"1\" class=\"dataframe\">\n",
       "  <thead>\n",
       "    <tr style=\"text-align: right;\">\n",
       "      <th></th>\n",
       "      <th>Open</th>\n",
       "      <th>High</th>\n",
       "      <th>Low</th>\n",
       "      <th>Close</th>\n",
       "      <th>Adj Close</th>\n",
       "      <th>Volume</th>\n",
       "    </tr>\n",
       "    <tr>\n",
       "      <th>Date</th>\n",
       "      <th></th>\n",
       "      <th></th>\n",
       "      <th></th>\n",
       "      <th></th>\n",
       "      <th></th>\n",
       "      <th></th>\n",
       "    </tr>\n",
       "  </thead>\n",
       "  <tbody>\n",
       "    <tr>\n",
       "      <th>2017-10-01</th>\n",
       "      <td>0.021678</td>\n",
       "      <td>0.032226</td>\n",
       "      <td>0.017354</td>\n",
       "      <td>0.024969</td>\n",
       "      <td>0.024969</td>\n",
       "      <td>50068700.0</td>\n",
       "    </tr>\n",
       "    <tr>\n",
       "      <th>2017-10-02</th>\n",
       "      <td>0.024607</td>\n",
       "      <td>0.030088</td>\n",
       "      <td>0.019969</td>\n",
       "      <td>0.025932</td>\n",
       "      <td>0.025932</td>\n",
       "      <td>57641300.0</td>\n",
       "    </tr>\n",
       "    <tr>\n",
       "      <th>2017-10-03</th>\n",
       "      <td>0.025757</td>\n",
       "      <td>0.027425</td>\n",
       "      <td>0.020690</td>\n",
       "      <td>0.020816</td>\n",
       "      <td>0.020816</td>\n",
       "      <td>16997800.0</td>\n",
       "    </tr>\n",
       "    <tr>\n",
       "      <th>2017-10-04</th>\n",
       "      <td>0.020864</td>\n",
       "      <td>0.022806</td>\n",
       "      <td>0.020864</td>\n",
       "      <td>0.021931</td>\n",
       "      <td>0.021931</td>\n",
       "      <td>9000050.0</td>\n",
       "    </tr>\n",
       "    <tr>\n",
       "      <th>2017-10-05</th>\n",
       "      <td>0.021951</td>\n",
       "      <td>0.022154</td>\n",
       "      <td>0.020859</td>\n",
       "      <td>0.021489</td>\n",
       "      <td>0.021489</td>\n",
       "      <td>5562510.0</td>\n",
       "    </tr>\n",
       "  </tbody>\n",
       "</table>\n",
       "</div>"
      ],
      "text/plain": [
       "                Open      High       Low     Close  Adj Close      Volume\n",
       "Date                                                                     \n",
       "2017-10-01  0.021678  0.032226  0.017354  0.024969   0.024969  50068700.0\n",
       "2017-10-02  0.024607  0.030088  0.019969  0.025932   0.025932  57641300.0\n",
       "2017-10-03  0.025757  0.027425  0.020690  0.020816   0.020816  16997800.0\n",
       "2017-10-04  0.020864  0.022806  0.020864  0.021931   0.021931   9000050.0\n",
       "2017-10-05  0.021951  0.022154  0.020859  0.021489   0.021489   5562510.0"
      ]
     },
     "execution_count": 29,
     "metadata": {},
     "output_type": "execute_result"
    }
   ],
   "source": [
    "ada.head()"
   ]
  },
  {
   "cell_type": "markdown",
   "metadata": {},
   "source": [
    "Getting a concise summary of the data"
   ]
  },
  {
   "cell_type": "code",
   "execution_count": 30,
   "metadata": {},
   "outputs": [
    {
     "data": {
      "text/plain": [
       "<bound method DataFrame.info of                 Open      High       Low     Close  Adj Close        Volume\n",
       "Date                                                                       \n",
       "2017-10-01  0.021678  0.032226  0.017354  0.024969   0.024969  5.006870e+07\n",
       "2017-10-02  0.024607  0.030088  0.019969  0.025932   0.025932  5.764130e+07\n",
       "2017-10-03  0.025757  0.027425  0.020690  0.020816   0.020816  1.699780e+07\n",
       "2017-10-04  0.020864  0.022806  0.020864  0.021931   0.021931  9.000050e+06\n",
       "2017-10-05  0.021951  0.022154  0.020859  0.021489   0.021489  5.562510e+06\n",
       "...              ...       ...       ...       ...        ...           ...\n",
       "2021-08-31  2.737641  2.877878  2.706473  2.772475   2.772475  5.085984e+09\n",
       "2021-09-01  2.769947  2.902614  2.726327  2.870767   2.870767  4.652639e+09\n",
       "2021-09-02  2.869750  3.099186  2.839781  2.963438   2.963438  7.376032e+09\n",
       "2021-09-03  2.959315  3.029436  2.907606  2.968239   2.968239  5.244577e+09\n",
       "2021-09-04  2.960665  2.966121  2.921135  2.930362   2.930362  4.746497e+09\n",
       "\n",
       "[1435 rows x 6 columns]>"
      ]
     },
     "execution_count": 30,
     "metadata": {},
     "output_type": "execute_result"
    }
   ],
   "source": [
    "#inspect the data\n",
    "ada.info"
   ]
  },
  {
   "cell_type": "markdown",
   "metadata": {},
   "source": [
    "Summary statistics of the data"
   ]
  },
  {
   "cell_type": "code",
   "execution_count": 33,
   "metadata": {},
   "outputs": [
    {
     "data": {
      "text/html": [
       "<div>\n",
       "<style scoped>\n",
       "    .dataframe tbody tr th:only-of-type {\n",
       "        vertical-align: middle;\n",
       "    }\n",
       "\n",
       "    .dataframe tbody tr th {\n",
       "        vertical-align: top;\n",
       "    }\n",
       "\n",
       "    .dataframe thead th {\n",
       "        text-align: right;\n",
       "    }\n",
       "</style>\n",
       "<table border=\"1\" class=\"dataframe\">\n",
       "  <thead>\n",
       "    <tr style=\"text-align: right;\">\n",
       "      <th></th>\n",
       "      <th>Open</th>\n",
       "      <th>High</th>\n",
       "      <th>Low</th>\n",
       "      <th>Close</th>\n",
       "      <th>Adj Close</th>\n",
       "      <th>Volume</th>\n",
       "    </tr>\n",
       "  </thead>\n",
       "  <tbody>\n",
       "    <tr>\n",
       "      <th>count</th>\n",
       "      <td>1431.000000</td>\n",
       "      <td>1431.000000</td>\n",
       "      <td>1431.000000</td>\n",
       "      <td>1431.000000</td>\n",
       "      <td>1431.000000</td>\n",
       "      <td>1.431000e+03</td>\n",
       "    </tr>\n",
       "    <tr>\n",
       "      <th>mean</th>\n",
       "      <td>0.319708</td>\n",
       "      <td>0.337130</td>\n",
       "      <td>0.302364</td>\n",
       "      <td>0.321734</td>\n",
       "      <td>0.321734</td>\n",
       "      <td>1.005328e+09</td>\n",
       "    </tr>\n",
       "    <tr>\n",
       "      <th>std</th>\n",
       "      <td>0.520927</td>\n",
       "      <td>0.549858</td>\n",
       "      <td>0.494055</td>\n",
       "      <td>0.525482</td>\n",
       "      <td>0.525482</td>\n",
       "      <td>2.199785e+09</td>\n",
       "    </tr>\n",
       "    <tr>\n",
       "      <th>min</th>\n",
       "      <td>0.018414</td>\n",
       "      <td>0.021050</td>\n",
       "      <td>0.017354</td>\n",
       "      <td>0.018539</td>\n",
       "      <td>0.018539</td>\n",
       "      <td>1.739460e+06</td>\n",
       "    </tr>\n",
       "    <tr>\n",
       "      <th>25%</th>\n",
       "      <td>0.046842</td>\n",
       "      <td>0.048389</td>\n",
       "      <td>0.045401</td>\n",
       "      <td>0.046886</td>\n",
       "      <td>0.046886</td>\n",
       "      <td>5.169782e+07</td>\n",
       "    </tr>\n",
       "    <tr>\n",
       "      <th>50%</th>\n",
       "      <td>0.090832</td>\n",
       "      <td>0.094088</td>\n",
       "      <td>0.087401</td>\n",
       "      <td>0.090867</td>\n",
       "      <td>0.090867</td>\n",
       "      <td>1.276780e+08</td>\n",
       "    </tr>\n",
       "    <tr>\n",
       "      <th>75%</th>\n",
       "      <td>0.242979</td>\n",
       "      <td>0.258416</td>\n",
       "      <td>0.229075</td>\n",
       "      <td>0.244634</td>\n",
       "      <td>0.244634</td>\n",
       "      <td>6.083750e+08</td>\n",
       "    </tr>\n",
       "    <tr>\n",
       "      <th>max</th>\n",
       "      <td>2.960665</td>\n",
       "      <td>3.099186</td>\n",
       "      <td>2.921135</td>\n",
       "      <td>2.968239</td>\n",
       "      <td>2.968239</td>\n",
       "      <td>1.914198e+10</td>\n",
       "    </tr>\n",
       "  </tbody>\n",
       "</table>\n",
       "</div>"
      ],
      "text/plain": [
       "              Open         High          Low        Close    Adj Close  \\\n",
       "count  1431.000000  1431.000000  1431.000000  1431.000000  1431.000000   \n",
       "mean      0.319708     0.337130     0.302364     0.321734     0.321734   \n",
       "std       0.520927     0.549858     0.494055     0.525482     0.525482   \n",
       "min       0.018414     0.021050     0.017354     0.018539     0.018539   \n",
       "25%       0.046842     0.048389     0.045401     0.046886     0.046886   \n",
       "50%       0.090832     0.094088     0.087401     0.090867     0.090867   \n",
       "75%       0.242979     0.258416     0.229075     0.244634     0.244634   \n",
       "max       2.960665     3.099186     2.921135     2.968239     2.968239   \n",
       "\n",
       "             Volume  \n",
       "count  1.431000e+03  \n",
       "mean   1.005328e+09  \n",
       "std    2.199785e+09  \n",
       "min    1.739460e+06  \n",
       "25%    5.169782e+07  \n",
       "50%    1.276780e+08  \n",
       "75%    6.083750e+08  \n",
       "max    1.914198e+10  "
      ]
     },
     "execution_count": 33,
     "metadata": {},
     "output_type": "execute_result"
    }
   ],
   "source": [
    "ada.describe()"
   ]
  },
  {
   "cell_type": "markdown",
   "metadata": {},
   "source": [
    "Using the loc operator to get the data of 2021-09-04"
   ]
  },
  {
   "cell_type": "code",
   "execution_count": 35,
   "metadata": {},
   "outputs": [
    {
     "data": {
      "text/plain": [
       "Open         2.960665e+00\n",
       "High         2.966121e+00\n",
       "Low          2.921135e+00\n",
       "Close        2.930362e+00\n",
       "Adj Close    2.930362e+00\n",
       "Volume       4.746497e+09\n",
       "Name: 2021-09-04 00:00:00, dtype: float64"
      ]
     },
     "execution_count": 35,
     "metadata": {},
     "output_type": "execute_result"
    }
   ],
   "source": [
    "ada.loc[\"2021-09-04\"]"
   ]
  },
  {
   "cell_type": "markdown",
   "metadata": {},
   "source": [
    "__Create a Timestamp__ for 2017-10-05, 2018-02-11, and 2021-09-01"
   ]
  },
  {
   "cell_type": "code",
   "execution_count": 36,
   "metadata": {},
   "outputs": [
    {
     "data": {
      "text/plain": [
       "Timestamp('2017-10-05 00:00:00')"
      ]
     },
     "execution_count": 36,
     "metadata": {},
     "output_type": "execute_result"
    }
   ],
   "source": [
    "pd.to_datetime(\"2017-10-05\")"
   ]
  },
  {
   "cell_type": "code",
   "execution_count": 37,
   "metadata": {},
   "outputs": [
    {
     "data": {
      "text/plain": [
       "Timestamp('2018-02-11 00:00:00')"
      ]
     },
     "execution_count": 37,
     "metadata": {},
     "output_type": "execute_result"
    }
   ],
   "source": [
    "pd.to_datetime(\"2018-02-11\")"
   ]
  },
  {
   "cell_type": "code",
   "execution_count": 38,
   "metadata": {},
   "outputs": [
    {
     "data": {
      "text/plain": [
       "Timestamp('2021-09-01 00:00:00')"
      ]
     },
     "execution_count": 38,
     "metadata": {},
     "output_type": "execute_result"
    }
   ],
   "source": [
    "pd.to_datetime(\"2021-09-01\")"
   ]
  },
  {
   "cell_type": "markdown",
   "metadata": {},
   "source": [
    "__Change Frequency__ of stocks to __monthly__ and for Wednesday to Friday."
   ]
  },
  {
   "cell_type": "code",
   "execution_count": 40,
   "metadata": {},
   "outputs": [
    {
     "data": {
      "text/html": [
       "<div>\n",
       "<style scoped>\n",
       "    .dataframe tbody tr th:only-of-type {\n",
       "        vertical-align: middle;\n",
       "    }\n",
       "\n",
       "    .dataframe tbody tr th {\n",
       "        vertical-align: top;\n",
       "    }\n",
       "\n",
       "    .dataframe thead th {\n",
       "        text-align: right;\n",
       "    }\n",
       "</style>\n",
       "<table border=\"1\" class=\"dataframe\">\n",
       "  <thead>\n",
       "    <tr style=\"text-align: right;\">\n",
       "      <th></th>\n",
       "      <th>Open</th>\n",
       "      <th>High</th>\n",
       "      <th>Low</th>\n",
       "      <th>Close</th>\n",
       "      <th>Adj Close</th>\n",
       "      <th>Volume</th>\n",
       "    </tr>\n",
       "    <tr>\n",
       "      <th>Date</th>\n",
       "      <th></th>\n",
       "      <th></th>\n",
       "      <th></th>\n",
       "      <th></th>\n",
       "      <th></th>\n",
       "      <th></th>\n",
       "    </tr>\n",
       "  </thead>\n",
       "  <tbody>\n",
       "    <tr>\n",
       "      <th>2017-10-01</th>\n",
       "      <td>0.021678</td>\n",
       "      <td>0.032226</td>\n",
       "      <td>0.017354</td>\n",
       "      <td>0.024969</td>\n",
       "      <td>0.024969</td>\n",
       "      <td>5.006870e+07</td>\n",
       "    </tr>\n",
       "    <tr>\n",
       "      <th>2017-10-02</th>\n",
       "      <td>0.024607</td>\n",
       "      <td>0.030088</td>\n",
       "      <td>0.019969</td>\n",
       "      <td>0.025932</td>\n",
       "      <td>0.025932</td>\n",
       "      <td>5.764130e+07</td>\n",
       "    </tr>\n",
       "    <tr>\n",
       "      <th>2017-10-03</th>\n",
       "      <td>0.025757</td>\n",
       "      <td>0.027425</td>\n",
       "      <td>0.020690</td>\n",
       "      <td>0.020816</td>\n",
       "      <td>0.020816</td>\n",
       "      <td>1.699780e+07</td>\n",
       "    </tr>\n",
       "    <tr>\n",
       "      <th>2017-10-04</th>\n",
       "      <td>0.020864</td>\n",
       "      <td>0.022806</td>\n",
       "      <td>0.020864</td>\n",
       "      <td>0.021931</td>\n",
       "      <td>0.021931</td>\n",
       "      <td>9.000050e+06</td>\n",
       "    </tr>\n",
       "    <tr>\n",
       "      <th>2017-10-05</th>\n",
       "      <td>0.021951</td>\n",
       "      <td>0.022154</td>\n",
       "      <td>0.020859</td>\n",
       "      <td>0.021489</td>\n",
       "      <td>0.021489</td>\n",
       "      <td>5.562510e+06</td>\n",
       "    </tr>\n",
       "    <tr>\n",
       "      <th>...</th>\n",
       "      <td>...</td>\n",
       "      <td>...</td>\n",
       "      <td>...</td>\n",
       "      <td>...</td>\n",
       "      <td>...</td>\n",
       "      <td>...</td>\n",
       "    </tr>\n",
       "    <tr>\n",
       "      <th>2021-08-31</th>\n",
       "      <td>2.737641</td>\n",
       "      <td>2.877878</td>\n",
       "      <td>2.706473</td>\n",
       "      <td>2.772475</td>\n",
       "      <td>2.772475</td>\n",
       "      <td>5.085984e+09</td>\n",
       "    </tr>\n",
       "    <tr>\n",
       "      <th>2021-09-01</th>\n",
       "      <td>2.769947</td>\n",
       "      <td>2.902614</td>\n",
       "      <td>2.726327</td>\n",
       "      <td>2.870767</td>\n",
       "      <td>2.870767</td>\n",
       "      <td>4.652639e+09</td>\n",
       "    </tr>\n",
       "    <tr>\n",
       "      <th>2021-09-02</th>\n",
       "      <td>2.869750</td>\n",
       "      <td>3.099186</td>\n",
       "      <td>2.839781</td>\n",
       "      <td>2.963438</td>\n",
       "      <td>2.963438</td>\n",
       "      <td>7.376032e+09</td>\n",
       "    </tr>\n",
       "    <tr>\n",
       "      <th>2021-09-03</th>\n",
       "      <td>2.959315</td>\n",
       "      <td>3.029436</td>\n",
       "      <td>2.907606</td>\n",
       "      <td>2.968239</td>\n",
       "      <td>2.968239</td>\n",
       "      <td>5.244577e+09</td>\n",
       "    </tr>\n",
       "    <tr>\n",
       "      <th>2021-09-04</th>\n",
       "      <td>2.960665</td>\n",
       "      <td>2.966121</td>\n",
       "      <td>2.921135</td>\n",
       "      <td>2.930362</td>\n",
       "      <td>2.930362</td>\n",
       "      <td>4.746497e+09</td>\n",
       "    </tr>\n",
       "  </tbody>\n",
       "</table>\n",
       "<p>1435 rows × 6 columns</p>\n",
       "</div>"
      ],
      "text/plain": [
       "                Open      High       Low     Close  Adj Close        Volume\n",
       "Date                                                                       \n",
       "2017-10-01  0.021678  0.032226  0.017354  0.024969   0.024969  5.006870e+07\n",
       "2017-10-02  0.024607  0.030088  0.019969  0.025932   0.025932  5.764130e+07\n",
       "2017-10-03  0.025757  0.027425  0.020690  0.020816   0.020816  1.699780e+07\n",
       "2017-10-04  0.020864  0.022806  0.020864  0.021931   0.021931  9.000050e+06\n",
       "2017-10-05  0.021951  0.022154  0.020859  0.021489   0.021489  5.562510e+06\n",
       "...              ...       ...       ...       ...        ...           ...\n",
       "2021-08-31  2.737641  2.877878  2.706473  2.772475   2.772475  5.085984e+09\n",
       "2021-09-01  2.769947  2.902614  2.726327  2.870767   2.870767  4.652639e+09\n",
       "2021-09-02  2.869750  3.099186  2.839781  2.963438   2.963438  7.376032e+09\n",
       "2021-09-03  2.959315  3.029436  2.907606  2.968239   2.968239  5.244577e+09\n",
       "2021-09-04  2.960665  2.966121  2.921135  2.930362   2.930362  4.746497e+09\n",
       "\n",
       "[1435 rows x 6 columns]"
      ]
     },
     "execution_count": 40,
     "metadata": {},
     "output_type": "execute_result"
    }
   ],
   "source": [
    "ada.resample(\"D\").last()"
   ]
  },
  {
   "cell_type": "code",
   "execution_count": 41,
   "metadata": {},
   "outputs": [
    {
     "data": {
      "text/html": [
       "<div>\n",
       "<style scoped>\n",
       "    .dataframe tbody tr th:only-of-type {\n",
       "        vertical-align: middle;\n",
       "    }\n",
       "\n",
       "    .dataframe tbody tr th {\n",
       "        vertical-align: top;\n",
       "    }\n",
       "\n",
       "    .dataframe thead th {\n",
       "        text-align: right;\n",
       "    }\n",
       "</style>\n",
       "<table border=\"1\" class=\"dataframe\">\n",
       "  <thead>\n",
       "    <tr style=\"text-align: right;\">\n",
       "      <th></th>\n",
       "      <th>Open</th>\n",
       "      <th>High</th>\n",
       "      <th>Low</th>\n",
       "      <th>Close</th>\n",
       "      <th>Adj Close</th>\n",
       "      <th>Volume</th>\n",
       "    </tr>\n",
       "    <tr>\n",
       "      <th>Date</th>\n",
       "      <th></th>\n",
       "      <th></th>\n",
       "      <th></th>\n",
       "      <th></th>\n",
       "      <th></th>\n",
       "      <th></th>\n",
       "    </tr>\n",
       "  </thead>\n",
       "  <tbody>\n",
       "    <tr>\n",
       "      <th>2017-10-06</th>\n",
       "      <td>0.021359</td>\n",
       "      <td>0.021542</td>\n",
       "      <td>0.018360</td>\n",
       "      <td>0.018539</td>\n",
       "      <td>0.018539</td>\n",
       "      <td>7.780710e+06</td>\n",
       "    </tr>\n",
       "    <tr>\n",
       "      <th>2017-10-13</th>\n",
       "      <td>0.026061</td>\n",
       "      <td>0.033816</td>\n",
       "      <td>0.025195</td>\n",
       "      <td>0.033641</td>\n",
       "      <td>0.033641</td>\n",
       "      <td>1.561360e+07</td>\n",
       "    </tr>\n",
       "    <tr>\n",
       "      <th>2017-10-20</th>\n",
       "      <td>0.026982</td>\n",
       "      <td>0.030855</td>\n",
       "      <td>0.026612</td>\n",
       "      <td>0.030630</td>\n",
       "      <td>0.030630</td>\n",
       "      <td>8.716410e+06</td>\n",
       "    </tr>\n",
       "    <tr>\n",
       "      <th>2017-10-27</th>\n",
       "      <td>0.027138</td>\n",
       "      <td>0.027463</td>\n",
       "      <td>0.025674</td>\n",
       "      <td>0.026382</td>\n",
       "      <td>0.026382</td>\n",
       "      <td>2.511440e+06</td>\n",
       "    </tr>\n",
       "    <tr>\n",
       "      <th>2017-11-03</th>\n",
       "      <td>0.021418</td>\n",
       "      <td>0.023213</td>\n",
       "      <td>0.019827</td>\n",
       "      <td>0.022628</td>\n",
       "      <td>0.022628</td>\n",
       "      <td>2.836080e+06</td>\n",
       "    </tr>\n",
       "    <tr>\n",
       "      <th>...</th>\n",
       "      <td>...</td>\n",
       "      <td>...</td>\n",
       "      <td>...</td>\n",
       "      <td>...</td>\n",
       "      <td>...</td>\n",
       "      <td>...</td>\n",
       "    </tr>\n",
       "    <tr>\n",
       "      <th>2021-08-13</th>\n",
       "      <td>1.832760</td>\n",
       "      <td>2.145926</td>\n",
       "      <td>1.828374</td>\n",
       "      <td>2.136079</td>\n",
       "      <td>2.136079</td>\n",
       "      <td>7.661020e+09</td>\n",
       "    </tr>\n",
       "    <tr>\n",
       "      <th>2021-08-20</th>\n",
       "      <td>2.437795</td>\n",
       "      <td>2.575276</td>\n",
       "      <td>2.378612</td>\n",
       "      <td>2.457702</td>\n",
       "      <td>2.457702</td>\n",
       "      <td>8.323305e+09</td>\n",
       "    </tr>\n",
       "    <tr>\n",
       "      <th>2021-08-27</th>\n",
       "      <td>2.531772</td>\n",
       "      <td>2.944447</td>\n",
       "      <td>2.498699</td>\n",
       "      <td>2.944197</td>\n",
       "      <td>2.944197</td>\n",
       "      <td>8.077144e+09</td>\n",
       "    </tr>\n",
       "    <tr>\n",
       "      <th>2021-09-03</th>\n",
       "      <td>2.959315</td>\n",
       "      <td>3.029436</td>\n",
       "      <td>2.907606</td>\n",
       "      <td>2.968239</td>\n",
       "      <td>2.968239</td>\n",
       "      <td>5.244577e+09</td>\n",
       "    </tr>\n",
       "    <tr>\n",
       "      <th>2021-09-10</th>\n",
       "      <td>2.960665</td>\n",
       "      <td>2.966121</td>\n",
       "      <td>2.921135</td>\n",
       "      <td>2.930362</td>\n",
       "      <td>2.930362</td>\n",
       "      <td>4.746497e+09</td>\n",
       "    </tr>\n",
       "  </tbody>\n",
       "</table>\n",
       "<p>206 rows × 6 columns</p>\n",
       "</div>"
      ],
      "text/plain": [
       "                Open      High       Low     Close  Adj Close        Volume\n",
       "Date                                                                       \n",
       "2017-10-06  0.021359  0.021542  0.018360  0.018539   0.018539  7.780710e+06\n",
       "2017-10-13  0.026061  0.033816  0.025195  0.033641   0.033641  1.561360e+07\n",
       "2017-10-20  0.026982  0.030855  0.026612  0.030630   0.030630  8.716410e+06\n",
       "2017-10-27  0.027138  0.027463  0.025674  0.026382   0.026382  2.511440e+06\n",
       "2017-11-03  0.021418  0.023213  0.019827  0.022628   0.022628  2.836080e+06\n",
       "...              ...       ...       ...       ...        ...           ...\n",
       "2021-08-13  1.832760  2.145926  1.828374  2.136079   2.136079  7.661020e+09\n",
       "2021-08-20  2.437795  2.575276  2.378612  2.457702   2.457702  8.323305e+09\n",
       "2021-08-27  2.531772  2.944447  2.498699  2.944197   2.944197  8.077144e+09\n",
       "2021-09-03  2.959315  3.029436  2.907606  2.968239   2.968239  5.244577e+09\n",
       "2021-09-10  2.960665  2.966121  2.921135  2.930362   2.930362  4.746497e+09\n",
       "\n",
       "[206 rows x 6 columns]"
      ]
     },
     "execution_count": 41,
     "metadata": {},
     "output_type": "execute_result"
    }
   ],
   "source": [
    "ada.resample(\"W-Fri\").last()"
   ]
  },
  {
   "cell_type": "code",
   "execution_count": null,
   "metadata": {},
   "outputs": [],
   "source": []
  }
 ],
 "metadata": {
  "kernelspec": {
   "display_name": "Python 3",
   "language": "python",
   "name": "python3"
  },
  "language_info": {
   "codemirror_mode": {
    "name": "ipython",
    "version": 3
   },
   "file_extension": ".py",
   "mimetype": "text/x-python",
   "name": "python",
   "nbconvert_exporter": "python",
   "pygments_lexer": "ipython3",
   "version": "3.8.3"
  }
 },
 "nbformat": 4,
 "nbformat_minor": 4
}
